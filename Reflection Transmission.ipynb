{
 "cells": [
  {
   "cell_type": "code",
   "execution_count": 16,
   "id": "28b30c8f",
   "metadata": {},
   "outputs": [],
   "source": [
    "import sympy\n",
    "from sympy import I\n",
    "rho1, Area1, E1, I1 = sympy.symbols(\"rho1, Area1, E1, I1\")\n",
    "rho2, Area2, E2, I2 = sympy.symbols(\"rho2, Area2, E2, I2\")\n",
    "\n",
    "x = sympy.symbols(\"x\")\n",
    "a, b, c, d= sympy.symbols(\"a, b, c, d\")\n",
    "ad, bd, cd, dd= sympy.symbols(\"ad, bd, cd, dd\")\n",
    "ks= sympy.symbols(\"Ks\")\n",
    "w = sympy.symbols(\"w\")\n",
    "\n",
    "k1 = (rho1*Area1/(E1*I1))**(0.25)*(w**0.5)\n",
    "k2 = (rho2*Area2/(E2*I2))**(0.25)*(w**0.5)"
   ]
  },
  {
   "cell_type": "code",
   "execution_count": 17,
   "id": "b02c5821",
   "metadata": {},
   "outputs": [],
   "source": [
    "def subs_nums(eq):\n",
    "    return eq.subs(ks,1).subs(rho1,1).subs(Area1,1).subs(E1,1).subs(I1,1).subs(rho2,1).subs(Area2,1).subs(E2,2).subs(I2,2).expand()"
   ]
  },
  {
   "cell_type": "code",
   "execution_count": 18,
   "id": "eac89fc1",
   "metadata": {},
   "outputs": [],
   "source": [
    "incoming_wave = sympy.exp(-I*k1*x)"
   ]
  },
  {
   "cell_type": "code",
   "execution_count": 19,
   "id": "a31cb4cd",
   "metadata": {},
   "outputs": [],
   "source": [
    "v1 = incoming_wave + c*sympy.exp(I*k1*x) + d*sympy.exp(k1*x)\n",
    "v2 = a*sympy.exp(-I*k2*x) + b*sympy.exp(-k2*x)"
   ]
  },
  {
   "cell_type": "code",
   "execution_count": 20,
   "id": "1630b020",
   "metadata": {},
   "outputs": [],
   "source": [
    "v = sympy.Piecewise((v1,x<0),(v2,x>0))"
   ]
  },
  {
   "cell_type": "code",
   "execution_count": 21,
   "id": "0d54e6b3",
   "metadata": {},
   "outputs": [],
   "source": [
    "vdiffs= [None]*4\n",
    "vdiffs[0] = v\n",
    "for i in range(3):\n",
    "    vdiffs[i+1] = sympy.diff(vdiffs[i],x)"
   ]
  },
  {
   "cell_type": "code",
   "execution_count": 22,
   "id": "83e5c7c8",
   "metadata": {},
   "outputs": [],
   "source": [
    "eq1 = sympy.limit(vdiffs[0], x, 0, dir='-')-sympy.limit(vdiffs[0], x, 0, dir='+')\n",
    "eq2 = sympy.limit(vdiffs[1], x, 0, dir='-')-sympy.limit(vdiffs[1], x, 0, dir='+')\n",
    "eq3 = E1*I1*sympy.limit(vdiffs[2], x, 0, dir='-')-E2*I2*sympy.limit(vdiffs[2], x, 0, dir='+')\n",
    "eq4 = E1*I1*sympy.limit(vdiffs[3], x, 0, dir='-')+ks*sympy.limit(vdiffs[0], x, 0, dir='+')-E2*I2*sympy.limit(vdiffs[3], x, 0, dir='+')"
   ]
  },
  {
   "cell_type": "code",
   "execution_count": 23,
   "id": "c57adae2",
   "metadata": {},
   "outputs": [],
   "source": []
  },
  {
   "cell_type": "code",
   "execution_count": 24,
   "id": "3d146780",
   "metadata": {},
   "outputs": [],
   "source": [
    "soln = sympy.solve((eq1,eq2,eq3,eq4),(a,b,c,d))"
   ]
  },
  {
   "cell_type": "code",
   "execution_count": 25,
   "id": "d33b7c01",
   "metadata": {},
   "outputs": [],
   "source": [
    "a_sol = soln[a].expand()\n",
    "b_sol = soln[b].expand()\n",
    "c_sol = soln[c].expand()\n",
    "d_sol = soln[d].expand()"
   ]
  },
  {
   "cell_type": "code",
   "execution_count": null,
   "id": "86a137b1",
   "metadata": {},
   "outputs": [],
   "source": []
  },
  {
   "cell_type": "code",
   "execution_count": null,
   "id": "f514858a",
   "metadata": {},
   "outputs": [],
   "source": []
  },
  {
   "cell_type": "code",
   "execution_count": null,
   "id": "57842273",
   "metadata": {},
   "outputs": [],
   "source": []
  },
  {
   "cell_type": "code",
   "execution_count": 26,
   "id": "e7bae066",
   "metadata": {},
   "outputs": [],
   "source": [
    "incoming_wave = sympy.exp(-1*k1*x)"
   ]
  },
  {
   "cell_type": "code",
   "execution_count": 27,
   "id": "a824ff61",
   "metadata": {},
   "outputs": [],
   "source": [
    "v1 = incoming_wave + cd*sympy.exp(I*k1*x) + dd*sympy.exp(k1*x)\n",
    "v2 = ad*sympy.exp(-I*k2*x) + bd*sympy.exp(-k2*x)"
   ]
  },
  {
   "cell_type": "code",
   "execution_count": 28,
   "id": "4e7c5d91",
   "metadata": {},
   "outputs": [],
   "source": [
    "v = sympy.Piecewise((v1,x<0),(v2,x>0))"
   ]
  },
  {
   "cell_type": "code",
   "execution_count": 29,
   "id": "c619cdcd",
   "metadata": {},
   "outputs": [],
   "source": [
    "vdiffs= [None]*4\n",
    "vdiffs[0] = v\n",
    "for i in range(3):\n",
    "    vdiffs[i+1] = sympy.diff(vdiffs[i],x)"
   ]
  },
  {
   "cell_type": "code",
   "execution_count": 30,
   "id": "c2fa9558",
   "metadata": {},
   "outputs": [],
   "source": [
    "eq1 = sympy.limit(vdiffs[0], x, 0, dir='-')-sympy.limit(vdiffs[0], x, 0, dir='+')\n",
    "eq2 = sympy.limit(vdiffs[1], x, 0, dir='-')-sympy.limit(vdiffs[1], x, 0, dir='+')\n",
    "eq3 = E1*I1*sympy.limit(vdiffs[2], x, 0, dir='-')-E2*I2*sympy.limit(vdiffs[2], x, 0, dir='+')\n",
    "eq4 = E1*I1*sympy.limit(vdiffs[3], x, 0, dir='-')+ks*sympy.limit(vdiffs[0], x, 0, dir='+')-E2*I2*sympy.limit(vdiffs[3], x, 0, dir='+')"
   ]
  },
  {
   "cell_type": "code",
   "execution_count": null,
   "id": "399a18c9",
   "metadata": {},
   "outputs": [],
   "source": []
  },
  {
   "cell_type": "code",
   "execution_count": 32,
   "id": "3bfbd7e0",
   "metadata": {},
   "outputs": [],
   "source": [
    "soln_2 = sympy.solve((eq1,eq2,eq3,eq4),(ad,bd,cd,dd))"
   ]
  },
  {
   "cell_type": "code",
   "execution_count": null,
   "id": "09beab23",
   "metadata": {},
   "outputs": [],
   "source": []
  },
  {
   "cell_type": "code",
   "execution_count": 33,
   "id": "d4bbaccb",
   "metadata": {},
   "outputs": [],
   "source": [
    "ad_sol = soln_2[ad].expand()\n",
    "bd_sol = soln_2[bd].expand()\n",
    "cd_sol = soln_2[cd].expand()\n",
    "dd_sol = soln_2[dd].expand()"
   ]
  },
  {
   "cell_type": "code",
   "execution_count": null,
   "id": "e0706df5",
   "metadata": {},
   "outputs": [],
   "source": []
  },
  {
   "cell_type": "code",
   "execution_count": 34,
   "id": "57155299",
   "metadata": {},
   "outputs": [],
   "source": [
    "transmission_matrix = sympy.Matrix([[a_sol,b_sol],[ad_sol, bd_sol]])\n",
    "reflection_matrix = sympy.Matrix([[c_sol,d_sol],[cd_sol, dd_sol]])"
   ]
  },
  {
   "cell_type": "code",
   "execution_count": null,
   "id": "d7959a8e",
   "metadata": {},
   "outputs": [],
   "source": []
  },
  {
   "cell_type": "code",
   "execution_count": null,
   "id": "41cb9445",
   "metadata": {},
   "outputs": [],
   "source": []
  },
  {
   "cell_type": "code",
   "execution_count": 37,
   "id": "b616d413",
   "metadata": {},
   "outputs": [],
   "source": [
    "import pickle \n",
    "filehandler = open('reflection_transmission_matrix', 'wb') \n",
    "pickle.dump((reflection_matrix,transmission_matrix), filehandler)\n",
    "filehandler.close()"
   ]
  },
  {
   "cell_type": "code",
   "execution_count": null,
   "id": "03d37d31",
   "metadata": {},
   "outputs": [],
   "source": []
  },
  {
   "cell_type": "code",
   "execution_count": 46,
   "id": "ed2a8e12",
   "metadata": {},
   "outputs": [
    {
     "name": "stdout",
     "output_type": "stream",
     "text": [
      "None\n"
     ]
    }
   ],
   "source": [
    "print(subs_nums(reflection_matrix).simplify())\n"
   ]
  },
  {
   "cell_type": "code",
   "execution_count": 44,
   "id": "646ccaff",
   "metadata": {},
   "outputs": [
    {
     "data": {
      "text/latex": [
       "$\\displaystyle \\left[\\begin{matrix}\\frac{w^{\\frac{3}{2}} \\cdot \\left(66 + 264 i\\right) + \\sqrt{2} w^{\\frac{3}{2}} \\cdot \\left(42 + 192 i\\right) + 16 + 48 i + \\sqrt{2} \\cdot \\left(6 + 40 i\\right)}{\\sqrt{2} w^{\\frac{3}{2}} \\cdot \\left(54 + 228 i\\right) + w^{\\frac{3}{2}} \\cdot \\left(75 + 324 i\\right) - 49 + 87 i + \\sqrt{2} \\left(-42 + 62 i\\right)} & \\frac{w^{\\frac{3}{2}} \\left(-24 + 54 i\\right) + \\sqrt{2} w^{\\frac{3}{2}} \\left(-18 + 48 i\\right) - 16 + \\sqrt{2} \\left(-6 - 40 i\\right) - 48 i}{\\sqrt{2} w^{\\frac{3}{2}} \\cdot \\left(54 + 228 i\\right) + w^{\\frac{3}{2}} \\cdot \\left(75 + 324 i\\right) - 49 + 87 i + \\sqrt{2} \\left(-42 + 62 i\\right)}\\\\\\frac{w^{\\frac{3}{2}} \\cdot \\left(56 + 42 i\\right) + \\sqrt{2} w^{\\frac{3}{2}} \\cdot \\left(30 + 32 i\\right) + 48 - 16 i + \\sqrt{2} \\cdot \\left(40 - 6 i\\right)}{\\sqrt{2} w^{\\frac{3}{2}} \\cdot \\left(54 + 228 i\\right) + w^{\\frac{3}{2}} \\cdot \\left(75 + 324 i\\right) - 49 + 87 i + \\sqrt{2} \\left(-42 + 62 i\\right)} & \\frac{w^{\\frac{3}{2}} \\cdot \\left(66 + 264 i\\right) + \\sqrt{2} w^{\\frac{3}{2}} \\cdot \\left(42 + 192 i\\right) - 48 + \\sqrt{2} \\left(-40 + 6 i\\right) + 16 i}{\\sqrt{2} w^{\\frac{3}{2}} \\cdot \\left(54 + 228 i\\right) + w^{\\frac{3}{2}} \\cdot \\left(75 + 324 i\\right) - 49 + 87 i + \\sqrt{2} \\left(-42 + 62 i\\right)}\\end{matrix}\\right]$"
      ],
      "text/plain": [
       "Matrix([\n",
       "[(w**(3/2)*(66 + 264*I) + sqrt(2)*w**(3/2)*(42 + 192*I) + 16 + 48*I + sqrt(2)*(6 + 40*I))/(sqrt(2)*w**(3/2)*(54 + 228*I) + w**(3/2)*(75 + 324*I) - 49 + 87*I + sqrt(2)*(-42 + 62*I)), (w**(3/2)*(-24 + 54*I) + sqrt(2)*w**(3/2)*(-18 + 48*I) - 16 + sqrt(2)*(-6 - 40*I) - 48*I)/(sqrt(2)*w**(3/2)*(54 + 228*I) + w**(3/2)*(75 + 324*I) - 49 + 87*I + sqrt(2)*(-42 + 62*I))],\n",
       "[  (w**(3/2)*(56 + 42*I) + sqrt(2)*w**(3/2)*(30 + 32*I) + 48 - 16*I + sqrt(2)*(40 - 6*I))/(sqrt(2)*w**(3/2)*(54 + 228*I) + w**(3/2)*(75 + 324*I) - 49 + 87*I + sqrt(2)*(-42 + 62*I)), (w**(3/2)*(66 + 264*I) + sqrt(2)*w**(3/2)*(42 + 192*I) - 48 + sqrt(2)*(-40 + 6*I) + 16*I)/(sqrt(2)*w**(3/2)*(54 + 228*I) + w**(3/2)*(75 + 324*I) - 49 + 87*I + sqrt(2)*(-42 + 62*I))]])"
      ]
     },
     "execution_count": 44,
     "metadata": {},
     "output_type": "execute_result"
    }
   ],
   "source": [
    "print(subs_nums(transmission_matrix).simplify())\n"
   ]
  }
 ],
 "metadata": {
  "kernelspec": {
   "display_name": "Python 3 (ipykernel)",
   "language": "python",
   "name": "python3"
  },
  "language_info": {
   "codemirror_mode": {
    "name": "ipython",
    "version": 3
   },
   "file_extension": ".py",
   "mimetype": "text/x-python",
   "name": "python",
   "nbconvert_exporter": "python",
   "pygments_lexer": "ipython3",
   "version": "3.8.10"
  }
 },
 "nbformat": 4,
 "nbformat_minor": 5
}
