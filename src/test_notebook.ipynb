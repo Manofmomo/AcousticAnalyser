{
 "cells": [
  {
   "cell_type": "code",
   "execution_count": 1,
   "metadata": {},
   "outputs": [],
   "source": [
    "from acoustic_analyser import frame\n",
    "import numpy as np\n",
    "\n",
    "test_frame = frame.from_file(\n",
    "    member_file=\"test_member.json\", constraint_file=\"test_constraint.csv\", debug=False\n",
    ")\n",
    "\n",
    "free_end = test_frame.fixed_end(member_id=0)\n",
    "free_end = test_frame.free_end(member_id=3)"
   ]
  },
  {
   "cell_type": "code",
   "execution_count": null,
   "metadata": {},
   "outputs": [],
   "source": [
    "test_frame.get_determinant(w=2 * np.pi * 13.74)"
   ]
  },
  {
   "cell_type": "code",
   "execution_count": null,
   "metadata": {},
   "outputs": [],
   "source": [
    "test_frame.get_natural_frequency_newton(initial_guess=3)"
   ]
  },
  {
   "cell_type": "code",
   "execution_count": 2,
   "metadata": {},
   "outputs": [
    {
     "name": "stdout",
     "output_type": "stream",
     "text": [
      "Checking region [3, 4]           \n",
      "Possible root in region [3, 4]\n",
      "Natural frequency found at 3.298828125                                                              \n",
      "Checking region [13, 14]           \n",
      "Possible root in region [13, 14]\n",
      "Natural frequency found at 13.89697265625                                                           \n"
     ]
    },
    {
     "data": {
      "text/plain": [
       "[3.298828125, 13.89697265625]"
      ]
     },
     "execution_count": 2,
     "metadata": {},
     "output_type": "execute_result"
    }
   ],
   "source": [
    "test_frame.get_natural_frequency(n=2)"
   ]
  },
  {
   "cell_type": "code",
   "execution_count": null,
   "metadata": {},
   "outputs": [],
   "source": [
    "# _ = test_frame.get_frequency_graph(lower_limit=4, upper_limit=7, step_size=0.1)\n",
    "# # test_frame.get_natural_frequency_newton(initial_guess=10)"
   ]
  },
  {
   "cell_type": "code",
   "execution_count": null,
   "metadata": {},
   "outputs": [],
   "source": [
    "_ = test_frame.get_mode_shape(n=2)"
   ]
  }
 ],
 "metadata": {
  "kernelspec": {
   "display_name": "Python 3.8.10 ('.venv': venv)",
   "language": "python",
   "name": "python3"
  },
  "language_info": {
   "codemirror_mode": {
    "name": "ipython",
    "version": 3
   },
   "file_extension": ".py",
   "mimetype": "text/x-python",
   "name": "python",
   "nbconvert_exporter": "python",
   "pygments_lexer": "ipython3",
   "version": "3.8.10"
  },
  "orig_nbformat": 4,
  "vscode": {
   "interpreter": {
    "hash": "17bc60668a0ef3723cc4fe6fee6166c192eacec5ba2ca034f1deb5e37151e83a"
   }
  }
 },
 "nbformat": 4,
 "nbformat_minor": 2
}
