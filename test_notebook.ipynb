{
 "cells": [
  {
   "cell_type": "code",
   "execution_count": null,
   "metadata": {},
   "outputs": [],
   "source": [
    "from src.acoustic_analyser import frame\n",
    "import numpy as np\n",
    "\n",
    "test_frame = frame.from_file(\n",
    "    member_file=\"test_member.json\", constraint_file=\"test_constraint.csv\", debug=False\n",
    ")\n",
    "\n",
    "free_end = test_frame.fixed_end(member_id=0)\n",
    "free_end = test_frame.free_end(member_id=1)"
   ]
  },
  {
   "cell_type": "code",
   "execution_count": null,
   "metadata": {},
   "outputs": [],
   "source": [
    "# from src.acoustic_analyser import frame\n",
    "# import numpy as np\n",
    "\n",
    "\n",
    "# def printa(array):\n",
    "#     for i in array:\n",
    "#         print(i)\n",
    "\n",
    "\n",
    "# test_frame = frame()\n",
    "\n",
    "# test_frame.add_member(\n",
    "#     length=0.5, density=7800, youngs_modulus=206e9, height=1.27e-2, id=0\n",
    "# )\n",
    "# test_frame.add_member(\n",
    "#     length=0.5, density=7800, youngs_modulus=206e9, height=1.27e-2, id=1\n",
    "# )\n",
    "\n",
    "# fixed_end = test_frame.fixed_end(member_id=0)\n",
    "# joint = test_frame.two_member_joint(member_1_id=0, member_2_id=1, theta=90)\n",
    "# free_end = test_frame.free_end(member_id=1)"
   ]
  },
  {
   "cell_type": "code",
   "execution_count": null,
   "metadata": {},
   "outputs": [],
   "source": [
    "np.linalg.det(test_frame.get_equation_matrix(w=2 * np.pi * 13.742))"
   ]
  },
  {
   "cell_type": "code",
   "execution_count": null,
   "metadata": {},
   "outputs": [],
   "source": [
    "# _ = test_frame.get_frequency_graph(lower_limit=1, upper_limit=100, step_size=2)\n",
    "# test_frame.get_natural_frequency_newton(initial_guess=10)\n",
    "# test_frame.get_natural_frequency_bisect(lower_limit=50, upper_limit=55)"
   ]
  },
  {
   "cell_type": "code",
   "execution_count": null,
   "metadata": {},
   "outputs": [],
   "source": [
    "output = test_frame.get_mode_shape(natural_freq=13.742)\n",
    "np.array(output)[1][0]"
   ]
  }
 ],
 "metadata": {
  "kernelspec": {
   "display_name": "Python 3.8.10 ('.venv': venv)",
   "language": "python",
   "name": "python3"
  },
  "language_info": {
   "codemirror_mode": {
    "name": "ipython",
    "version": 3
   },
   "file_extension": ".py",
   "mimetype": "text/x-python",
   "name": "python",
   "nbconvert_exporter": "python",
   "pygments_lexer": "ipython3",
   "version": "3.8.10"
  },
  "orig_nbformat": 4,
  "vscode": {
   "interpreter": {
    "hash": "17bc60668a0ef3723cc4fe6fee6166c192eacec5ba2ca034f1deb5e37151e83a"
   }
  }
 },
 "nbformat": 4,
 "nbformat_minor": 2
}
