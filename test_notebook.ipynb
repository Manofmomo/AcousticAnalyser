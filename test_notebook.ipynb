{
 "cells": [
  {
   "cell_type": "code",
   "execution_count": 1,
   "metadata": {},
   "outputs": [],
   "source": [
    "from src.acoustic_analyser import frame\n",
    "import numpy as np\n",
    "\n",
    "test_frame = frame.from_file(\n",
    "    member_file=\"test_member.json\", constraint_file=\"test_constraint.csv\", debug=False\n",
    ")\n",
    "\n",
    "free_end = test_frame.fixed_end(member_id=0)\n",
    "free_end = test_frame.free_end(member_id=1)"
   ]
  },
  {
   "cell_type": "code",
   "execution_count": 2,
   "metadata": {},
   "outputs": [
    {
     "name": "stdout",
     "output_type": "stream",
     "text": [
      "0.22435014400184508\n"
     ]
    }
   ],
   "source": [
    "matrix = test_frame.get_equation_matrix(w=10)\n",
    "print(abs(np.linalg.det(matrix)))"
   ]
  },
  {
   "cell_type": "code",
   "execution_count": 4,
   "metadata": {},
   "outputs": [],
   "source": [
    "# _ = test_frame.get_frequency_graph(lower_limit=1, upper_limit=100, step_size=2)"
   ]
  },
  {
   "cell_type": "code",
   "execution_count": 5,
   "metadata": {},
   "outputs": [
    {
     "name": "stdout",
     "output_type": "stream",
     "text": [
      "Iteration: 9, Det: 9.824620531546559e-05, freq: 11.16796875\t\r"
     ]
    },
    {
     "data": {
      "text/plain": [
       "11.166015625"
      ]
     },
     "execution_count": 5,
     "metadata": {},
     "output_type": "execute_result"
    }
   ],
   "source": [
    "test_frame.get_natural_frequency(lower_limit=10, upper_limit=12)"
   ]
  },
  {
   "cell_type": "code",
   "execution_count": 6,
   "metadata": {},
   "outputs": [
    {
     "name": "stdout",
     "output_type": "stream",
     "text": [
      "Iteration: 10, Det: 0.00012073334204174838, freq: 52.2509765625\t\r"
     ]
    },
    {
     "data": {
      "text/plain": [
       "52.25341796875"
      ]
     },
     "execution_count": 6,
     "metadata": {},
     "output_type": "execute_result"
    }
   ],
   "source": [
    "test_frame.get_natural_frequency(lower_limit=50, upper_limit=55)"
   ]
  },
  {
   "cell_type": "code",
   "execution_count": 8,
   "metadata": {},
   "outputs": [
    {
     "data": {
      "text/plain": [
       "{a_b^+0: (-0.27038288488085643+0.001520351698273229j),\n",
       " a_e^+0: (-0.0034921949186936894-0.16295088129439392j),\n",
       " a_b^-0: (0.2701797757949724-0.010169041598361826j),\n",
       " a_e^-0: (-0.0031122069766371134-0.14376643609978765j),\n",
       " a_l^+0: (0.0007284711423302662-1.842661897828564e-05j),\n",
       " a_l^-0: (-0.0007220284259460403+1.8725621204716662e-05j),\n",
       " b_b^+0: (-0.15279957044645492+0.2230644826709795j),\n",
       " b_e^+0: (-0.0013338981895125504-0.062108156919421356j),\n",
       " b_b^-0: (0.16229416128087976+0.21624754675035918j),\n",
       " b_e^-0: (-0.008158283240559812-0.3771985297702368j),\n",
       " b_l^+0: (0.0007262423509961458-1.6677863621891414e-05j),\n",
       " b_l^-0: (-0.000719371500707437+1.4846884778337477e-05j),\n",
       " a_b^+1: (0.2672578608368176+0.010498930293597568j),\n",
       " a_e^+1: (-0.0025165665627734004-0.11721992527443204j),\n",
       " a_b^-1: (-0.26657598339984456+0.021990508027926466j),\n",
       " a_e^-1: (-0.0030850969125560262-0.14312549117533058j),\n",
       " a_l^+1: (-0.00165241614880679-0.1125193015904446j),\n",
       " a_l^-1: (-0.0031969539613658504-0.11248515287789412j),\n",
       " b_b^+1: (0.16089595485887168-0.21366069108124316j),\n",
       " b_e^+1: (-0.0009602627880040682-0.04467759413131554j),\n",
       " b_b^-1: (-0.16995263983856118-0.20653732353723345j),\n",
       " b_e^-1: (-0.00808713535332542-0.3755169266051832j),\n",
       " b_l^+1: (-0.002426716132281903-0.11250329669471917j),\n",
       " b_l^-1: (-0.002426722847077012-0.11250327900324666j)}"
      ]
     },
     "execution_count": 8,
     "metadata": {},
     "output_type": "execute_result"
    }
   ],
   "source": [
    "test_frame.get_params_solution(natural_freq=11.16)"
   ]
  },
  {
   "cell_type": "code",
   "execution_count": null,
   "metadata": {},
   "outputs": [],
   "source": []
  },
  {
   "cell_type": "code",
   "execution_count": null,
   "metadata": {},
   "outputs": [],
   "source": [
    "from src.modules.bc import fixed_end\n",
    "step_size = 0.2\n",
    "constraint : fixed_end = test_frame.constraints[1]\n",
    "member_curr = constraint.member\n",
    "points = np.append(np.arange(step_size,member_curr.length,step_size),member_curr.length)\n"
   ]
  }
 ],
 "metadata": {
  "kernelspec": {
   "display_name": "Python 3.8.10 ('.venv': venv)",
   "language": "python",
   "name": "python3"
  },
  "language_info": {
   "codemirror_mode": {
    "name": "ipython",
    "version": 3
   },
   "file_extension": ".py",
   "mimetype": "text/x-python",
   "name": "python",
   "nbconvert_exporter": "python",
   "pygments_lexer": "ipython3",
   "version": "3.8.10"
  },
  "orig_nbformat": 4,
  "vscode": {
   "interpreter": {
    "hash": "17bc60668a0ef3723cc4fe6fee6166c192eacec5ba2ca034f1deb5e37151e83a"
   }
  }
 },
 "nbformat": 4,
 "nbformat_minor": 2
}
