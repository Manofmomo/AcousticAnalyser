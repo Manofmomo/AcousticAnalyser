{
 "cells": [
  {
   "cell_type": "code",
   "execution_count": 1,
   "metadata": {},
   "outputs": [],
   "source": [
    "from src.acoustic_analyser import frame\n",
    "import numpy as np\n",
    "\n",
    "test_frame = frame.from_file(\n",
    "    member_file=\"test_member.json\", constraint_file=\"test_constraint.csv\", debug=False\n",
    ")\n",
    "\n",
    "free_end = test_frame.fixed_end(member_id=0)\n",
    "free_end = test_frame.free_end(member_id=1)"
   ]
  },
  {
   "cell_type": "code",
   "execution_count": 2,
   "metadata": {},
   "outputs": [
    {
     "data": {
      "text/plain": [
       "0.22435014400184505"
      ]
     },
     "execution_count": 2,
     "metadata": {},
     "output_type": "execute_result"
    }
   ],
   "source": [
    "np.abs(test_frame.get_determinant(w=10))"
   ]
  },
  {
   "cell_type": "code",
   "execution_count": 3,
   "metadata": {},
   "outputs": [],
   "source": [
    "# _ = test_frame.get_frequency_graph(lower_limit=1, upper_limit=100, step_size=2)"
   ]
  },
  {
   "cell_type": "code",
   "execution_count": 4,
   "metadata": {},
   "outputs": [
    {
     "data": {
      "text/plain": [
       "11.164710566688555"
      ]
     },
     "execution_count": 4,
     "metadata": {},
     "output_type": "execute_result"
    }
   ],
   "source": [
    "test_frame.get_natural_frequency_newton(initial_guess=10)"
   ]
  },
  {
   "cell_type": "code",
   "execution_count": 5,
   "metadata": {},
   "outputs": [],
   "source": [
    "# test_frame.get_natural_frequency_bisect(lower_limit=50, upper_limit=55)"
   ]
  },
  {
   "cell_type": "code",
   "execution_count": 6,
   "metadata": {},
   "outputs": [],
   "source": [
    "subs_dict = test_frame.get_params_solution(natural_freq=11.16)"
   ]
  },
  {
   "cell_type": "code",
   "execution_count": 110,
   "metadata": {},
   "outputs": [],
   "source": [
    "from src.modules.bc import fixed_end, free_end\n",
    "from matplotlib import pyplot as plt\n",
    "\n",
    "step_size = 0.1\n",
    "constraint: bc = test_frame.constraints[1]\n",
    "member_curr = constraint.member\n",
    "offset = np.array([0, 0])\n",
    "angle = 0\n",
    "Handle = True\n",
    "to_plot = []\n",
    "\n",
    "x = np.append(np.arange(step_size, member_curr.length, step_size), member_curr.length)\n",
    "v, u = member_curr.get_deformation(\n",
    "    w=2 * np.pi * 11.16, lengths=x, id=constraint.id, subs_dict=subs_dict\n",
    ")\n",
    "x_deformed = np.real(v) + x\n",
    "y_deformed = np.real(u)\n",
    "points_deformed = np.stack([x_deformed, y_deformed]).T.reshape(len(x), 1, 2)\n",
    "R = np.array([[np.cos(angle), -np.sin(angle)], [np.sin(angle), np.cos(angle)]])\n",
    "rotated = np.matmul(points_deformed, np.stack([R] * len(x_deformed)))\n",
    "rotated_translated = rotated + offset\n",
    "to_plot.append(rotated_translated)"
   ]
  },
  {
   "cell_type": "code",
   "execution_count": 114,
   "metadata": {},
   "outputs": [
    {
     "data": {
      "text/plain": [
       "[0, 1]"
      ]
     },
     "execution_count": 114,
     "metadata": {},
     "output_type": "execute_result"
    }
   ],
   "source": [
    "member_curr.constraint_ids"
   ]
  },
  {
   "cell_type": "code",
   "execution_count": 115,
   "metadata": {},
   "outputs": [
    {
     "data": {
      "text/plain": [
       "[<src.modules.joint.two_member at 0x7f8af4e2ca00>,\n",
       " <src.modules.bc.fixed_end at 0x7f8af4e24ca0>,\n",
       " <src.modules.bc.free_end at 0x7f8af4e24c70>]"
      ]
     },
     "execution_count": 115,
     "metadata": {},
     "output_type": "execute_result"
    }
   ],
   "source": [
    "test_frame.constraints"
   ]
  },
  {
   "cell_type": "code",
   "execution_count": 26,
   "metadata": {},
   "outputs": [
    {
     "data": {
      "text/plain": [
       "[<matplotlib.lines.Line2D at 0x7f8aef5bf910>]"
      ]
     },
     "execution_count": 26,
     "metadata": {},
     "output_type": "execute_result"
    },
    {
     "data": {
      "image/png": "[encoded data removed]",
      "text/plain": [
       "<Figure size 640x480 with 1 Axes>"
      ]
     },
     "metadata": {},
     "output_type": "display_data"
    }
   ],
   "source": [
    "plt.plot(x_deformed, y_deformed)"
   ]
  },
  {
   "cell_type": "code",
   "execution_count": null,
   "metadata": {},
   "outputs": [],
   "source": []
  },
  {
   "cell_type": "code",
   "execution_count": null,
   "metadata": {},
   "outputs": [],
   "source": []
  },
  {
   "cell_type": "code",
   "execution_count": 9,
   "metadata": {},
   "outputs": [
    {
     "name": "stdout",
     "output_type": "stream",
     "text": [
      "Essential till mode shape verified\n"
     ]
    }
   ],
   "source": [
    "print(\"Essential till mode shape verified\")\n",
    "# from sympy import Matrix, E, I\n",
    "# def get_propagation_matrix(obj, w: float, length: float):\n",
    "#         C = (obj.youngs_modulus / obj.density) ** 0.5\n",
    "#         K = (obj.inertia / obj.cross_section_area) ** 0.5\n",
    "\n",
    "#         alpha = (w * K / C) ** 0.5\n",
    "#         beta = w * K / C\n",
    "#         L_bar = length / K\n",
    "\n",
    "#         propagation_matrix = Matrix(\n",
    "#             [\n",
    "#                 [E ** (-I * alpha * L_bar), 0, 0],\n",
    "#                 [0, E ** (-alpha * L_bar), 0],\n",
    "#                 [0, 0, E ** (-I * beta * L_bar)],\n",
    "#             ]\n",
    "#         )\n",
    "#         return propagation_matrix\n",
    "# w = 2*np.pi*11.16\n",
    "# propagation_matrix_subs = get_propagation_matrix(member_curr,w=w,length=points[0])\n",
    "# propagation_matrix_inv_subs = propagation_matrix_subs.inv()\n",
    "# a_plus_subs = member_curr.a_plus.subs(subs_dict)\n",
    "# a_minus_subs = member_curr.a_minus.subs(subs_dict)\n",
    "\n",
    "# v = (Matrix([1,1,0]).T*propagation_matrix_subs*a_plus_subs + Matrix([1,1,0]).T*propagation_matrix_inv_subs*a_minus_subs).evalf()\n",
    "# u = (Matrix([0,0,1]).T*propagation_matrix_subs*a_plus_subs + Matrix([0,0,1]).T*propagation_matrix_inv_subs*a_minus_subs).evalf()\n",
    "# u[0]"
   ]
  }
 ],
 "metadata": {
  "kernelspec": {
   "display_name": "Python 3.8.10 ('.venv': venv)",
   "language": "python",
   "name": "python3"
  },
  "language_info": {
   "codemirror_mode": {
    "name": "ipython",
    "version": 3
   },
   "file_extension": ".py",
   "mimetype": "text/x-python",
   "name": "python",
   "nbconvert_exporter": "python",
   "pygments_lexer": "ipython3",
   "version": "3.8.10"
  },
  "orig_nbformat": 4,
  "vscode": {
   "interpreter": {
    "hash": "17bc60668a0ef3723cc4fe6fee6166c192eacec5ba2ca034f1deb5e37151e83a"
   }
  }
 },
 "nbformat": 4,
 "nbformat_minor": 2
}
