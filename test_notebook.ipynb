{
 "cells": [
  {
   "cell_type": "code",
   "execution_count": null,
   "metadata": {},
   "outputs": [],
   "source": [
    "from sympy import symbols, Matrix\n",
    "import pickle\n",
    "\n",
    "w = symbols(\"w\")"
   ]
  },
  {
   "cell_type": "code",
   "execution_count": null,
   "metadata": {},
   "outputs": [],
   "source": [
    "from src.acoustic_analyser import frame\n",
    "import numpy as np\n",
    "\n",
    "test_frame = frame.from_file(\n",
    "    member_file=\"test_member.json\", constraint_file=\"test_constraint.csv\"\n",
    ")\n",
    "\n",
    "free_end = test_frame.fixed_end(member_id=0)\n",
    "free_end = test_frame.free_end(member_id=1)\n",
    "\n",
    "matrix = test_frame.get_equation_matrix(w=10)\n",
    "print(abs(np.linalg.det(matrix)))"
   ]
  },
  {
   "cell_type": "code",
   "execution_count": null,
   "metadata": {},
   "outputs": [],
   "source": [
    "# from src.acoustic_analyser import frame\n",
    "# import numpy as np\n",
    "\n",
    "# test_frame = frame()\n",
    "\n",
    "# test_frame.add_member(length=0.5, density=7800, youngs_modulus=206e9, height=1.27e-2,id=0)\n",
    "# test_frame.add_member(length=0.5, density=7800, youngs_modulus=206e9, height=1.27e-2,id=1)\n",
    "\n",
    "# free_end = test_frame.fixed_end(member_id=0)\n",
    "# joint = test_frame.two_member_joint(member_1_id=0,member_2_id=1, theta=45)\n",
    "# free_end = test_frame.free_end(member_id=1)\n",
    "\n",
    "\n",
    "# matrix_1 = test_frame.get_equation_matrix(w=10)\n",
    "\n",
    "# print(abs(np.linalg.det(matrix_1)))"
   ]
  },
  {
   "cell_type": "code",
   "execution_count": null,
   "metadata": {},
   "outputs": [],
   "source": [
    "matrix_2 = test_frame.get_equation_matrix(w=3)\n",
    "print(abs(np.linalg.det(matrix_2)))"
   ]
  },
  {
   "cell_type": "code",
   "execution_count": null,
   "metadata": {},
   "outputs": [],
   "source": [
    "# c1_plus,c1_minus = test_frame.members[0].get_parameters(w=3,id=1)\n",
    "# c2_minus,c2_plus = test_frame.members[1].get_parameters(w=3,id=1)\n",
    "# a_minus,a_plus = test_frame.members[0].get_parameters(w=3,id=0)\n",
    "# b_plus,b_minus = test_frame.members[1].get_parameters(w=3,id=2)\n",
    "# A = Matrix([])\n",
    "#  # Fixed End Boundary Condition\n",
    "# A = A.col_join(test_frame.constraints[0].reflection_matrix*a_minus-a_plus)\n",
    "# # Joint\n",
    "# A = A.col_join(test_frame.constraints[1].reflection_matrix_11*c1_plus+test_frame.constraints[1].transmission_matrix_21*c2_minus-c1_minus)\n",
    "# A= A.col_join(test_frame.constraints[1].reflection_matrix_22*c2_minus+test_frame.constraints[1].transmission_matrix_12*c1_plus-c2_plus)\n",
    "# # Free End\n",
    "# A = A.col_join(test_frame.constraints[2].reflection_matrix*b_plus-b_minus)\n",
    "# # Propagation\n",
    "# A = A.col_join(test_frame.members[0].propagation_matrix_subs*a_plus -c1_plus)\n",
    "# A = A.col_join(test_frame.members[0].propagation_matrix_subs*c1_minus -a_minus)\n",
    "# A = A.col_join(test_frame.members[1].propagation_matrix_subs*c2_plus -b_plus)\n",
    "# A = A.col_join(test_frame.members[1].propagation_matrix_subs*b_minus -c2_minus)\n",
    "# A.expand()-test_frame.eqn_matrix.expand()"
   ]
  }
 ],
 "metadata": {
  "kernelspec": {
   "display_name": "Python 3.8.10 ('.venv': venv)",
   "language": "python",
   "name": "python3"
  },
  "language_info": {
   "codemirror_mode": {
    "name": "ipython",
    "version": 3
   },
   "file_extension": ".py",
   "mimetype": "text/x-python",
   "name": "python",
   "nbconvert_exporter": "python",
   "pygments_lexer": "ipython3",
   "version": "3.8.10 (default, Jun 22 2022, 20:18:18) \n[GCC 9.4.0]"
  },
  "orig_nbformat": 4,
  "vscode": {
   "interpreter": {
    "hash": "17bc60668a0ef3723cc4fe6fee6166c192eacec5ba2ca034f1deb5e37151e83a"
   }
  }
 },
 "nbformat": 4,
 "nbformat_minor": 2
}
