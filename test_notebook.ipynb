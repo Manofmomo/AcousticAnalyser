{
 "cells": [
  {
   "cell_type": "code",
   "execution_count": 1,
   "metadata": {},
   "outputs": [],
   "source": [
    "from src.acoustic_analyser import frame\n",
    "import numpy as np\n",
    "\n",
    "test_frame = frame.from_file(\n",
    "    member_file=\"test_member.json\", constraint_file=\"test_constraint.csv\", debug=False\n",
    ")\n",
    "\n",
    "free_end = test_frame.fixed_end(member_id=0)\n",
    "free_end = test_frame.free_end(member_id=1)"
   ]
  },
  {
   "cell_type": "code",
   "execution_count": 2,
   "metadata": {},
   "outputs": [
    {
     "name": "stdout",
     "output_type": "stream",
     "text": [
      "(-0.22419369236865638-0.008377076802613428j)\n"
     ]
    },
    {
     "data": {
      "text/plain": [
       "(-0.22419369236865638-0.008377076802613428j)"
      ]
     },
     "execution_count": 2,
     "metadata": {},
     "output_type": "execute_result"
    }
   ],
   "source": [
    "test_frame.get_determinant(w=10)"
   ]
  },
  {
   "cell_type": "code",
   "execution_count": 3,
   "metadata": {},
   "outputs": [],
   "source": [
    "# _ = test_frame.get_frequency_graph(lower_limit=1, upper_limit=100, step_size=2)"
   ]
  },
  {
   "cell_type": "code",
   "execution_count": 4,
   "metadata": {},
   "outputs": [],
   "source": [
    "# test_frame.get_natural_frequency(lower_limit=10, upper_limit=12)"
   ]
  },
  {
   "cell_type": "code",
   "execution_count": 5,
   "metadata": {},
   "outputs": [],
   "source": [
    "# test_frame.get_natural_frequency(lower_limit=50, upper_limit=55)"
   ]
  },
  {
   "cell_type": "code",
   "execution_count": 6,
   "metadata": {},
   "outputs": [],
   "source": [
    "subs_dict = test_frame.get_params_solution(natural_freq=11.16)"
   ]
  },
  {
   "cell_type": "code",
   "execution_count": 57,
   "metadata": {},
   "outputs": [],
   "source": [
    "from src.modules.bc import fixed_end\n",
    "\n",
    "step_size = 0.1\n",
    "constraint: fixed_end = test_frame.constraints[1]\n",
    "member_curr = constraint.member\n",
    "points = np.append(\n",
    "    np.arange(step_size, member_curr.length, step_size), member_curr.length\n",
    ")"
   ]
  },
  {
   "cell_type": "code",
   "execution_count": 58,
   "metadata": {},
   "outputs": [],
   "source": [
    "v,u =member_curr.get_deformation(w=2*np.pi*11.16, length=points[0], id=constraint.id, subs_dict=subs_dict)"
   ]
  },
  {
   "cell_type": "code",
   "execution_count": 124,
   "metadata": {},
   "outputs": [],
   "source": [
    "points=[0.1]"
   ]
  },
  {
   "cell_type": "code",
   "execution_count": 122,
   "metadata": {},
   "outputs": [
    {
     "data": {
      "text/plain": [
       "matrix([[-0.01091331-0.50408612j]])"
      ]
     },
     "execution_count": 122,
     "metadata": {},
     "output_type": "execute_result"
    }
   ],
   "source": [
    "length = np.array(points)\n",
    "w = 2*np.pi*11.16\n",
    "C = (member_curr.youngs_modulus / member_curr.density) ** 0.5\n",
    "K = (member_curr.inertia / member_curr.cross_section_area) ** 0.5\n",
    "\n",
    "alpha = (w * K / C) ** 0.5\n",
    "beta = w * K / C\n",
    "L_bar = length / K\n",
    "\n",
    "propagation_matrix_finder = lambda x : np.array(\n",
    "    [\n",
    "        [np.e** (-1j* alpha * x), 0, 0],\n",
    "        [0, np.e** (-alpha * x), 0],\n",
    "        [0, 0, np.e** (-1j* beta * x)],\n",
    "    ]\n",
    ")\n",
    "propagation_matrix = np.stack([propagation_matrix_finder(x) for x in L_bar])\n",
    "propagation_matrix_inv = np.linalg.inv(propagation_matrix)\n",
    "a_plus_subs = np.matrix(member_curr.a_plus.subs(subs_dict),dtype=complex)\n",
    "a_minus_subs = np.matrix(member_curr.a_minus.subs(subs_dict),dtype=complex)\n",
    "\n",
    "v2 = (np.matmul(np.array([1,1,0]),propagation_matrix)*a_plus_subs + np.matmul(np.array([1,1,0]),propagation_matrix_inv)*a_minus_subs)\n",
    "v2"
   ]
  },
  {
   "cell_type": "code",
   "execution_count": 118,
   "metadata": {},
   "outputs": [
    {
     "name": "stdout",
     "output_type": "stream",
     "text": [
      "[[-4.59701721133854e-17 - 2.77555756156289e-17*I]]\n"
     ]
    }
   ],
   "source": [
    "from sympy import Matrix\n",
    "w = 2*np.pi*11.16\n",
    "propagation_matrix_subs = member_curr.get_propagation_matrix(w=w,length=points[0])\n",
    "propagation_matrix_inv_subs = propagation_matrix_subs.inv()\n",
    "a_plus_subs = member_curr.a_plus.subs(subs_dict)\n",
    "a_minus_subs = member_curr.a_minus.subs(subs_dict)\n",
    "\n",
    "v = (Matrix([1,1,0]).T*propagation_matrix_subs*a_plus_subs + Matrix([1,1,0]).T*propagation_matrix_inv_subs*a_minus_subs).evalf()\n",
    "u = (Matrix([0,0,1]).T*propagation_matrix_subs*a_plus_subs + Matrix([0,0,1]).T*propagation_matrix_inv_subs*a_minus_subs).evalf()\n"
   ]
  }
 ],
 "metadata": {
  "kernelspec": {
   "display_name": "Python 3.8.10 ('.venv': venv)",
   "language": "python",
   "name": "python3"
  },
  "language_info": {
   "codemirror_mode": {
    "name": "ipython",
    "version": 3
   },
   "file_extension": ".py",
   "mimetype": "text/x-python",
   "name": "python",
   "nbconvert_exporter": "python",
   "pygments_lexer": "ipython3",
   "version": "3.8.10"
  },
  "orig_nbformat": 4,
  "vscode": {
   "interpreter": {
    "hash": "17bc60668a0ef3723cc4fe6fee6166c192eacec5ba2ca034f1deb5e37151e83a"
   }
  }
 },
 "nbformat": 4,
 "nbformat_minor": 2
}
