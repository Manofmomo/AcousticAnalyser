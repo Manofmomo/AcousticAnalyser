{
 "cells": [
  {
   "cell_type": "code",
   "execution_count": 13,
   "metadata": {},
   "outputs": [
    {
     "data": {
      "text/latex": [
       "$\\displaystyle a_{b(1)}^{+}$"
      ],
      "text/plain": [
       "a_{b(1)}^{+}"
      ]
     },
     "execution_count": 13,
     "metadata": {},
     "output_type": "execute_result"
    }
   ],
   "source": [
    "from sympy import symbols\n",
    "symbols(\"a_{b(1)}^{+}\")"
   ]
  },
  {
   "cell_type": "code",
   "execution_count": 1,
   "metadata": {},
   "outputs": [
    {
     "name": "stdout",
     "output_type": "stream",
     "text": [
      "0 1\n",
      "1 2\n"
     ]
    }
   ],
   "source": [
    "\n",
    "from src.acoustic_analyser import frame\n",
    "\n",
    "test_frame = frame.from_file(member_file=\"test_member.json\", constraint_file=\"test_constraint.csv\")\n",
    "\n",
    "fixed_end = test_frame.fixed_end(member_id=0)\n",
    "free_end = test_frame.free_end(member_id=2)\n",
    "\n",
    "lhs=test_frame.get_equation_matrix()\n",
    "\n"
   ]
  },
  {
   "cell_type": "code",
   "execution_count": 5,
   "metadata": {},
   "outputs": [
    {
     "data": {
      "text/latex": [
       "$\\displaystyle \\left[\\begin{matrix}- 1.0 i & -1.0 + 1.0 i\\\\-1.0 - 1.0 i & 1.0 i\\end{matrix}\\right]$"
      ],
      "text/plain": [
       "Matrix([\n",
       "[      -1.0*I, -1.0 + 1.0*I],\n",
       "[-1.0 - 1.0*I,        1.0*I]])"
      ]
     },
     "execution_count": 5,
     "metadata": {},
     "output_type": "execute_result"
    }
   ],
   "source": [
    "fixed_end.reflection_matrix"
   ]
  },
  {
   "cell_type": "code",
   "execution_count": null,
   "metadata": {},
   "outputs": [],
   "source": []
  },
  {
   "cell_type": "code",
   "execution_count": null,
   "metadata": {},
   "outputs": [],
   "source": []
  },
  {
   "cell_type": "code",
   "execution_count": 4,
   "metadata": {},
   "outputs": [
    {
     "data": {
      "text/plain": [
       "[-A0,\n",
       " -B0,\n",
       " -A1 + C0,\n",
       " -B1 + D0,\n",
       " -C1,\n",
       " -D1,\n",
       " A1 - A2,\n",
       " B1 - B2,\n",
       " -1.0*I*A0 + B0*(-1.0 + 1.0*I) - C0,\n",
       " A0*(-1.0 - 1.0*I) + 1.0*I*B0 - D0,\n",
       " -1.0*I*A2 + B2*(1.0 - 1.0*I) - C2,\n",
       " A2*(1.0 + 1.0*I) + 1.0*I*B2 - D2]"
      ]
     },
     "execution_count": 4,
     "metadata": {},
     "output_type": "execute_result"
    }
   ],
   "source": [
    "lhs"
   ]
  }
 ],
 "metadata": {
  "kernelspec": {
   "display_name": "Python 3.8.10 ('.venv': venv)",
   "language": "python",
   "name": "python3"
  },
  "language_info": {
   "codemirror_mode": {
    "name": "ipython",
    "version": 3
   },
   "file_extension": ".py",
   "mimetype": "text/x-python",
   "name": "python",
   "nbconvert_exporter": "python",
   "pygments_lexer": "ipython3",
   "version": "3.8.10"
  },
  "orig_nbformat": 4,
  "vscode": {
   "interpreter": {
    "hash": "17bc60668a0ef3723cc4fe6fee6166c192eacec5ba2ca034f1deb5e37151e83a"
   }
  }
 },
 "nbformat": 4,
 "nbformat_minor": 2
}
