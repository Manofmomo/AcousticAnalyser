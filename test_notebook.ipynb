{
 "cells": [
  {
   "cell_type": "code",
   "execution_count": 1,
   "metadata": {},
   "outputs": [],
   "source": [
    "from src.acoustic_analyser import frame\n",
    "from pickle import load as pickle_load\n",
    "test_structure = frame()\n",
    "\n",
    "m1 = test_structure.add_member(length=0.5, rho=1, cross_section_area=1, youngs_modulus=1, inertia=1)\n",
    "m2 = test_structure.add_member(length=0.5, rho=1, cross_section_area=1, youngs_modulus=1, inertia=1)\n",
    "m3 = test_structure.add_member(length=1, rho=1, cross_section_area=2, youngs_modulus=1, inertia=1)\n",
    "\n",
    "fixed_end = test_structure.fixed_end(member=m1)\n",
    "\n",
    "j1 = test_structure.two_member_joint(member_1=m1, member_2=m2, theta=0)\n",
    "j2 = test_structure.two_member_joint(member_1=m2, member_2=m3, theta=0)\n",
    "\n",
    "free_end = test_structure.free_end(member=m3)\n",
    "\n",
    "lhs=test_structure.get_equation_matrix()\n",
    "\n"
   ]
  },
  {
   "cell_type": "code",
   "execution_count": 38,
   "metadata": {},
   "outputs": [
    {
     "data": {
      "text/latex": [
       "$\\displaystyle \\left[\\begin{matrix}- 1.0 i & 1.0 - 1.0 i\\\\1.0 + 1.0 i & 1.0 i\\end{matrix}\\right]$"
      ],
      "text/plain": [
       "Matrix([\n",
       "[     -1.0*I, 1.0 - 1.0*I],\n",
       "[1.0 + 1.0*I,       1.0*I]])"
      ]
     },
     "execution_count": 38,
     "metadata": {},
     "output_type": "execute_result"
    }
   ],
   "source": [
    "free_end.reflection_matrix"
   ]
  },
  {
   "cell_type": "code",
   "execution_count": 46,
   "metadata": {},
   "outputs": [
    {
     "data": {
      "text/latex": [
       "$\\displaystyle \\left[\\begin{matrix}0 & 0\\\\0 & 0\\end{matrix}\\right]$"
      ],
      "text/plain": [
       "Matrix([\n",
       "[0, 0],\n",
       "[0, 0]])"
      ]
     },
     "execution_count": 46,
     "metadata": {},
     "output_type": "execute_result"
    }
   ],
   "source": [
    "j1.reflection_matrix"
   ]
  },
  {
   "cell_type": "code",
   "execution_count": 47,
   "metadata": {},
   "outputs": [
    {
     "data": {
      "text/latex": [
       "$\\displaystyle \\left[\\begin{matrix}- \\frac{2 \\cdot 2^{\\frac{3}{4}} i}{3 + 2^{\\frac{3}{4}} \\cdot \\left(4 + 18 i\\right) + 32 i + \\sqrt{2} \\cdot \\left(6 + 24 i\\right) + \\sqrt[4]{2} \\cdot \\left(4 + 30 i\\right)} - \\frac{3 i}{3 + 2^{\\frac{3}{4}} \\cdot \\left(4 + 18 i\\right) + 32 i + \\sqrt{2} \\cdot \\left(6 + 24 i\\right) + \\sqrt[4]{2} \\cdot \\left(4 + 30 i\\right)} - \\frac{2 \\sqrt{2} i}{3 + 2^{\\frac{3}{4}} \\cdot \\left(4 + 18 i\\right) + 32 i + \\sqrt{2} \\cdot \\left(6 + 24 i\\right) + \\sqrt[4]{2} \\cdot \\left(4 + 30 i\\right)} - \\frac{2 \\cdot \\sqrt[4]{2} i}{3 + 2^{\\frac{3}{4}} \\cdot \\left(4 + 18 i\\right) + 32 i + \\sqrt{2} \\cdot \\left(6 + 24 i\\right) + \\sqrt[4]{2} \\cdot \\left(4 + 30 i\\right)} & - \\frac{1}{2 \\cdot \\sqrt[4]{2} + 2 \\sqrt{2} + 3 + 2 \\cdot 2^{\\frac{3}{4}}} + \\frac{i}{2 \\cdot \\sqrt[4]{2} + 2 \\sqrt{2} + 3 + 2 \\cdot 2^{\\frac{3}{4}}}\\\\\\frac{\\sqrt{2} \\cdot \\left(4 - 4 i\\right)}{3 + 2^{\\frac{3}{4}} \\cdot \\left(4 + 18 i\\right) + 32 i + \\sqrt{2} \\cdot \\left(6 + 24 i\\right) + \\sqrt[4]{2} \\cdot \\left(4 + 30 i\\right)} + \\frac{4 \\cdot \\sqrt[4]{2}}{3 + 2^{\\frac{3}{4}} \\cdot \\left(4 + 18 i\\right) + 32 i + \\sqrt{2} \\cdot \\left(6 + 24 i\\right) + \\sqrt[4]{2} \\cdot \\left(4 + 30 i\\right)} - \\frac{4 \\cdot 2^{\\frac{3}{4}} i}{3 + 2^{\\frac{3}{4}} \\cdot \\left(4 + 18 i\\right) + 32 i + \\sqrt{2} \\cdot \\left(6 + 24 i\\right) + \\sqrt[4]{2} \\cdot \\left(4 + 30 i\\right)} - \\frac{i}{3 + 2^{\\frac{3}{4}} \\cdot \\left(4 + 18 i\\right) + 32 i + \\sqrt{2} \\cdot \\left(6 + 24 i\\right) + \\sqrt[4]{2} \\cdot \\left(4 + 30 i\\right)} - \\frac{1}{3 + 2^{\\frac{3}{4}} \\cdot \\left(4 + 18 i\\right) + 32 i + \\sqrt{2} \\cdot \\left(6 + 24 i\\right) + \\sqrt[4]{2} \\cdot \\left(4 + 30 i\\right)} & - \\frac{2 \\cdot 2^{\\frac{3}{4}}}{2 \\cdot \\sqrt[4]{2} + 2 \\sqrt{2} + 3 + 2 \\cdot 2^{\\frac{3}{4}}} + \\frac{2 \\cdot \\sqrt[4]{2}}{2 \\cdot \\sqrt[4]{2} + 2 \\sqrt{2} + 3 + 2 \\cdot 2^{\\frac{3}{4}}} - \\frac{2 \\sqrt{2} i}{2 \\cdot \\sqrt[4]{2} + 2 \\sqrt{2} + 3 + 2 \\cdot 2^{\\frac{3}{4}}} + \\frac{3 i}{2 \\cdot \\sqrt[4]{2} + 2 \\sqrt{2} + 3 + 2 \\cdot 2^{\\frac{3}{4}}}\\end{matrix}\\right]$"
      ],
      "text/plain": [
       "Matrix([\n",
       "[                                                                                 -2*2**(3/4)*I/(3 + 2**(3/4)*(4 + 18*I) + 32*I + sqrt(2)*(6 + 24*I) + 2**(1/4)*(4 + 30*I)) - 3*I/(3 + 2**(3/4)*(4 + 18*I) + 32*I + sqrt(2)*(6 + 24*I) + 2**(1/4)*(4 + 30*I)) - 2*sqrt(2)*I/(3 + 2**(3/4)*(4 + 18*I) + 32*I + sqrt(2)*(6 + 24*I) + 2**(1/4)*(4 + 30*I)) - 2*2**(1/4)*I/(3 + 2**(3/4)*(4 + 18*I) + 32*I + sqrt(2)*(6 + 24*I) + 2**(1/4)*(4 + 30*I)),                                                                                                                           -1/(2*2**(1/4) + 2*sqrt(2) + 3 + 2*2**(3/4)) + I/(2*2**(1/4) + 2*sqrt(2) + 3 + 2*2**(3/4))],\n",
       "[sqrt(2)*(4 - 4*I)/(3 + 2**(3/4)*(4 + 18*I) + 32*I + sqrt(2)*(6 + 24*I) + 2**(1/4)*(4 + 30*I)) + 4*2**(1/4)/(3 + 2**(3/4)*(4 + 18*I) + 32*I + sqrt(2)*(6 + 24*I) + 2**(1/4)*(4 + 30*I)) - 4*2**(3/4)*I/(3 + 2**(3/4)*(4 + 18*I) + 32*I + sqrt(2)*(6 + 24*I) + 2**(1/4)*(4 + 30*I)) - I/(3 + 2**(3/4)*(4 + 18*I) + 32*I + sqrt(2)*(6 + 24*I) + 2**(1/4)*(4 + 30*I)) - 1/(3 + 2**(3/4)*(4 + 18*I) + 32*I + sqrt(2)*(6 + 24*I) + 2**(1/4)*(4 + 30*I)), -2*2**(3/4)/(2*2**(1/4) + 2*sqrt(2) + 3 + 2*2**(3/4)) + 2*2**(1/4)/(2*2**(1/4) + 2*sqrt(2) + 3 + 2*2**(3/4)) - 2*sqrt(2)*I/(2*2**(1/4) + 2*sqrt(2) + 3 + 2*2**(3/4)) + 3*I/(2*2**(1/4) + 2*sqrt(2) + 3 + 2*2**(3/4))]])"
      ]
     },
     "execution_count": 47,
     "metadata": {},
     "output_type": "execute_result"
    }
   ],
   "source": [
    "j2.reflection_matrix"
   ]
  },
  {
   "cell_type": "code",
   "execution_count": 2,
   "metadata": {},
   "outputs": [
    {
     "data": {
      "text/plain": [
       "[-A-1 - 1.0*I*C-1 + D-1*(-1.0 + 1.0*I),\n",
       " -B-1 + C-1*(-1.0 - 1.0*I) + 1.0*I*D-1,\n",
       " -C-1,\n",
       " -D-1,\n",
       " A-1 - A0,\n",
       " B-1 - B0,\n",
       " A0*(-2*2**(3/4)*I/(3 + 2**(3/4)*(4 + 18*I) + 32*I + sqrt(2)*(6 + 24*I) + 2**(1/4)*(4 + 30*I)) - 3*I/(3 + 2**(3/4)*(4 + 18*I) + 32*I + sqrt(2)*(6 + 24*I) + 2**(1/4)*(4 + 30*I)) - 2*sqrt(2)*I/(3 + 2**(3/4)*(4 + 18*I) + 32*I + sqrt(2)*(6 + 24*I) + 2**(1/4)*(4 + 30*I)) - 2*2**(1/4)*I/(3 + 2**(3/4)*(4 + 18*I) + 32*I + sqrt(2)*(6 + 24*I) + 2**(1/4)*(4 + 30*I))) + B0*(-1/(2*2**(1/4) + 2*sqrt(2) + 3 + 2*2**(3/4)) + I/(2*2**(1/4) + 2*sqrt(2) + 3 + 2*2**(3/4))) - C0,\n",
       " A0*(sqrt(2)*(4 - 4*I)/(3 + 2**(3/4)*(4 + 18*I) + 32*I + sqrt(2)*(6 + 24*I) + 2**(1/4)*(4 + 30*I)) + 4*2**(1/4)/(3 + 2**(3/4)*(4 + 18*I) + 32*I + sqrt(2)*(6 + 24*I) + 2**(1/4)*(4 + 30*I)) - 4*2**(3/4)*I/(3 + 2**(3/4)*(4 + 18*I) + 32*I + sqrt(2)*(6 + 24*I) + 2**(1/4)*(4 + 30*I)) - I/(3 + 2**(3/4)*(4 + 18*I) + 32*I + sqrt(2)*(6 + 24*I) + 2**(1/4)*(4 + 30*I)) - 1/(3 + 2**(3/4)*(4 + 18*I) + 32*I + sqrt(2)*(6 + 24*I) + 2**(1/4)*(4 + 30*I))) + B0*(-2*2**(3/4)/(2*2**(1/4) + 2*sqrt(2) + 3 + 2*2**(3/4)) + 2*2**(1/4)/(2*2**(1/4) + 2*sqrt(2) + 3 + 2*2**(3/4)) - 2*sqrt(2)*I/(2*2**(1/4) + 2*sqrt(2) + 3 + 2*2**(3/4)) + 3*I/(2*2**(1/4) + 2*sqrt(2) + 3 + 2*2**(3/4))) - D0,\n",
       " A0*(6/(3 + 2**(3/4)*(4 + 18*I) + 32*I + sqrt(2)*(6 + 24*I) + 2**(1/4)*(4 + 30*I)) + 2**(1/4)*(6 + 20*I)/(3 + 2**(3/4)*(4 + 18*I) + 32*I + sqrt(2)*(6 + 24*I) + 2**(1/4)*(4 + 30*I)) + sqrt(2)*(2 + 16*I)/(3 + 2**(3/4)*(4 + 18*I) + 32*I + sqrt(2)*(6 + 24*I) + 2**(1/4)*(4 + 30*I)) + 2**(3/4)*(1 + 16*I)/(3 + 2**(3/4)*(4 + 18*I) + 32*I + sqrt(2)*(6 + 24*I) + 2**(1/4)*(4 + 30*I)) + 28*I/(3 + 2**(3/4)*(4 + 18*I) + 32*I + sqrt(2)*(6 + 24*I) + 2**(1/4)*(4 + 30*I))) - A1 + B0*(2*I/(3 + 2**(3/4)*(4 + 18*I) + 32*I + sqrt(2)*(6 + 24*I) + 2**(1/4)*(4 + 30*I)) + 2*sqrt(2)*I/(3 + 2**(3/4)*(4 + 18*I) + 32*I + sqrt(2)*(6 + 24*I) + 2**(1/4)*(4 + 30*I)) - 2**(3/4)/(3 + 2**(3/4)*(4 + 18*I) + 32*I + sqrt(2)*(6 + 24*I) + 2**(1/4)*(4 + 30*I)) + 2**(1/4)*(-2 + 4*I)/(3 + 2**(3/4)*(4 + 18*I) + 32*I + sqrt(2)*(6 + 24*I) + 2**(1/4)*(4 + 30*I)) - 4/(3 + 2**(3/4)*(4 + 18*I) + 32*I + sqrt(2)*(6 + 24*I) + 2**(1/4)*(4 + 30*I))),\n",
       " A0*(28/(3 + 2**(3/4)*(4 + 18*I) + 32*I + sqrt(2)*(6 + 24*I) + 2**(1/4)*(4 + 30*I)) + 2**(1/4)*(6 - 20*I)/(3 + 2**(3/4)*(4 + 18*I) + 32*I + sqrt(2)*(6 + 24*I) + 2**(1/4)*(4 + 30*I)) + 6*I/(3 + 2**(3/4)*(4 + 18*I) + 32*I + sqrt(2)*(6 + 24*I) + 2**(1/4)*(4 + 30*I)) + 2**(3/4)*(-1 + 16*I)/(3 + 2**(3/4)*(4 + 18*I) + 32*I + sqrt(2)*(6 + 24*I) + 2**(1/4)*(4 + 30*I)) + sqrt(2)*(-16 - 2*I)/(3 + 2**(3/4)*(4 + 18*I) + 32*I + sqrt(2)*(6 + 24*I) + 2**(1/4)*(4 + 30*I))) + B0*(6/(3 + 2**(3/4)*(4 + 18*I) + 32*I + sqrt(2)*(6 + 24*I) + 2**(1/4)*(4 + 30*I)) + 2**(1/4)*(6 + 20*I)/(3 + 2**(3/4)*(4 + 18*I) + 32*I + sqrt(2)*(6 + 24*I) + 2**(1/4)*(4 + 30*I)) + sqrt(2)*(2 + 16*I)/(3 + 2**(3/4)*(4 + 18*I) + 32*I + sqrt(2)*(6 + 24*I) + 2**(1/4)*(4 + 30*I)) + 2**(3/4)*(1 + 16*I)/(3 + 2**(3/4)*(4 + 18*I) + 32*I + sqrt(2)*(6 + 24*I) + 2**(1/4)*(4 + 30*I)) + 28*I/(3 + 2**(3/4)*(4 + 18*I) + 32*I + sqrt(2)*(6 + 24*I) + 2**(1/4)*(4 + 30*I))) - B1,\n",
       " -1.0*I*A1 + B1*(1.0 - 1.0*I) - C1,\n",
       " A1*(1.0 + 1.0*I) + 1.0*I*B1 - D1]"
      ]
     },
     "execution_count": 2,
     "metadata": {},
     "output_type": "execute_result"
    }
   ],
   "source": [
    "lhs"
   ]
  }
 ],
 "metadata": {
  "kernelspec": {
   "display_name": "Python 3.8.10 ('.venv': venv)",
   "language": "python",
   "name": "python3"
  },
  "language_info": {
   "codemirror_mode": {
    "name": "ipython",
    "version": 3
   },
   "file_extension": ".py",
   "mimetype": "text/x-python",
   "name": "python",
   "nbconvert_exporter": "python",
   "pygments_lexer": "ipython3",
   "version": "3.8.10"
  },
  "orig_nbformat": 4,
  "vscode": {
   "interpreter": {
    "hash": "17bc60668a0ef3723cc4fe6fee6166c192eacec5ba2ca034f1deb5e37151e83a"
   }
  }
 },
 "nbformat": 4,
 "nbformat_minor": 2
}
