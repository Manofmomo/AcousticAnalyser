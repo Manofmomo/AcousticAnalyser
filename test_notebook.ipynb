{
 "cells": [
  {
   "cell_type": "code",
   "execution_count": 1,
   "metadata": {},
   "outputs": [
    {
     "name": "stderr",
     "output_type": "stream",
     "text": [
      "2022-10-16 19:44:12,510 src.modules.member DEBUG:Propagation Matrix Calculated for member 0\n",
      "2022-10-16 19:44:12,514 src.modules.member DEBUG:Parameters set for member 0\n",
      "2022-10-16 19:44:12,515 src.acoustic_analyser DEBUG:Member added with id 0\n",
      "2022-10-16 19:44:12,517 src.modules.member DEBUG:Propagation Matrix Calculated for member 1\n",
      "2022-10-16 19:44:12,519 src.modules.member DEBUG:Parameters set for member 1\n",
      "2022-10-16 19:44:12,520 src.acoustic_analyser DEBUG:Member added with id 1\n",
      "2022-10-16 19:44:12,522 src.acoustic_analyser DEBUG:Created all Members\n",
      "2022-10-16 19:44:12,541 src.modules.rt_joint DEBUG:Equation File Loaded\n",
      "2022-10-16 19:44:12,682 src.modules.rt_joint DEBUG:M0-M6 Substituted\n",
      "2022-10-16 19:44:12,683 src.modules.rt_joint DEBUG:Matrix([[0, 0, -I/w**0.5 + 12*w**0.5], [12*w**0.5 - I, 12*w**0.5 + 1, 0], [1, -1, 0]])\n",
      "2022-10-16 19:44:26,862 src.modules.rt_joint DEBUG:Reflection Transmission Calculated\n",
      "2022-10-16 19:44:26,864 src.acoustic_analyser DEBUG:Two member joint added b/w 0 and 1 with id 0\n",
      "2022-10-16 19:44:26,866 src.acoustic_analyser DEBUG:Added all Constraints\n",
      "2022-10-16 19:44:26,872 src.modules.bc DEBUG:Reflection Matrix for free_end 1 calculated\n",
      "2022-10-16 19:44:26,874 src.acoustic_analyser DEBUG:Fixed End added to member 0 with id 1\n",
      "2022-10-16 19:44:26,880 src.modules.bc DEBUG:Reflection Matrix for free_end 2 calculated\n",
      "2022-10-16 19:44:26,881 src.acoustic_analyser DEBUG:Free End added to member 1 with id 2\n",
      "2022-10-16 19:44:26,896 src.modules.joint DEBUG:Equations for joint 0 calculated\n",
      "2022-10-16 19:44:26,911 src.modules.bc DEBUG:Equations for fixed_end 1 calculated\n",
      "2022-10-16 19:44:26,913 src.modules.bc DEBUG:Equations for free_end 2 calculated\n",
      "2022-10-16 19:44:26,915 src.acoustic_analyser DEBUG:All Equations Fetched\n",
      "2022-10-16 19:45:18,803 src.acoustic_analyser DEBUG:Equation Coefficent Matrix generated\n"
     ]
    }
   ],
   "source": [
    "from src.acoustic_analyser import frame\n",
    "\n",
    "\n",
    "test_frame = frame.from_file(member_file=\"test_member.json\", constraint_file=\"test_constraint.csv\")\n",
    "\n",
    "free_end = test_frame.fixed_end(member_id=0)\n",
    "free_end = test_frame.free_end(member_id=1)\n",
    "\n",
    "matrix = test_frame.get_equation_matrix()"
   ]
  },
  {
   "cell_type": "code",
   "execution_count": 2,
   "metadata": {},
   "outputs": [
    {
     "data": {
      "text/plain": [
       "(12, 12)"
      ]
     },
     "execution_count": 2,
     "metadata": {},
     "output_type": "execute_result"
    }
   ],
   "source": [
    "matrix.shape"
   ]
  }
 ],
 "metadata": {
  "kernelspec": {
   "display_name": "Python 3.8.10 ('.venv': venv)",
   "language": "python",
   "name": "python3"
  },
  "language_info": {
   "codemirror_mode": {
    "name": "ipython",
    "version": 3
   },
   "file_extension": ".py",
   "mimetype": "text/x-python",
   "name": "python",
   "nbconvert_exporter": "python",
   "pygments_lexer": "ipython3",
   "version": "3.8.10"
  },
  "orig_nbformat": 4,
  "vscode": {
   "interpreter": {
    "hash": "17bc60668a0ef3723cc4fe6fee6166c192eacec5ba2ca034f1deb5e37151e83a"
   }
  }
 },
 "nbformat": 4,
 "nbformat_minor": 2
}
