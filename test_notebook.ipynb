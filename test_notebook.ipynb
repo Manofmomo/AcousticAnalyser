{
 "cells": [
  {
   "cell_type": "code",
   "execution_count": 1,
   "metadata": {},
   "outputs": [],
   "source": [
    "# from src.acoustic_analyser import frame\n",
    "# import numpy as np\n",
    "\n",
    "# test_frame = frame.from_file(\n",
    "#     member_file=\"test_member.json\", constraint_file=\"test_constraint.csv\", debug=False\n",
    "# )\n",
    "\n",
    "# free_end = test_frame.fixed_end(member_id=0)\n",
    "# free_end = test_frame.free_end(member_id=1)"
   ]
  },
  {
   "cell_type": "code",
   "execution_count": 2,
   "metadata": {},
   "outputs": [],
   "source": [
    "from src.acoustic_analyser import frame\n",
    "import numpy as np\n",
    "\n",
    "\n",
    "def printa(array):\n",
    "    for i in array:\n",
    "        print(i)\n",
    "\n",
    "\n",
    "test_frame = frame()\n",
    "\n",
    "test_frame.add_member(\n",
    "    length=0.5, density=7800, youngs_modulus=206e9, height=1.27e-2, id=0\n",
    ")\n",
    "test_frame.add_member(\n",
    "    length=0.5, density=7800, youngs_modulus=206e9, height=1.27e-2, id=1\n",
    ")\n",
    "\n",
    "free_end = test_frame.fixed_end(member_id=0)\n",
    "joint = test_frame.two_member_joint(member_1_id=0, member_2_id=1, theta=90)\n",
    "free_end = test_frame.free_end(member_id=1)"
   ]
  },
  {
   "cell_type": "code",
   "execution_count": 3,
   "metadata": {},
   "outputs": [
    {
     "data": {
      "text/plain": [
       "(1.3689194733634974e-06-7.831950446103157e-06j)"
      ]
     },
     "execution_count": 3,
     "metadata": {},
     "output_type": "execute_result"
    }
   ],
   "source": [
    "np.linalg.det(test_frame.get_equation_matrix(w=2 * np.pi * 13.742))"
   ]
  },
  {
   "cell_type": "code",
   "execution_count": 4,
   "metadata": {},
   "outputs": [],
   "source": [
    "# _ = test_frame.get_frequency_graph(lower_limit=1, upper_limit=100, step_size=2)"
   ]
  },
  {
   "cell_type": "code",
   "execution_count": 5,
   "metadata": {},
   "outputs": [],
   "source": [
    "# test_frame.get_natural_frequency_newton(initial_guess=10)"
   ]
  },
  {
   "cell_type": "code",
   "execution_count": 6,
   "metadata": {},
   "outputs": [],
   "source": [
    "# test_frame.get_natural_frequency_bisect(lower_limit=50, upper_limit=55)"
   ]
  },
  {
   "cell_type": "code",
   "execution_count": 7,
   "metadata": {},
   "outputs": [],
   "source": [
    "subs_dict = test_frame.get_params_solution(natural_freq=13.742)"
   ]
  },
  {
   "cell_type": "code",
   "execution_count": null,
   "metadata": {},
   "outputs": [],
   "source": []
  },
  {
   "cell_type": "code",
   "execution_count": 15,
   "metadata": {},
   "outputs": [
    {
     "name": "stdout",
     "output_type": "stream",
     "text": [
      "[[0.0352872-1.79613233e-07j]]\n",
      "[[-5.10829968e-06-1.62510616e-11j]]\n",
      "0.2\n"
     ]
    },
    {
     "ename": "ValueError",
     "evalue": "all input arrays must have the same shape",
     "output_type": "error",
     "traceback": [
      "\u001b[0;31m---------------------------------------------------------------------------\u001b[0m",
      "\u001b[0;31mValueError\u001b[0m                                Traceback (most recent call last)",
      "\u001b[1;32m/mnt/d/code/btp/test_notebook.ipynb Cell 9\u001b[0m in \u001b[0;36m<cell line: 15>\u001b[0;34m()\u001b[0m\n\u001b[1;32m     <a href='vscode-notebook-cell://wsl%2Bubuntu/mnt/d/code/btp/test_notebook.ipynb#X10sdnNjb2RlLXJlbW90ZQ%3D%3D?line=25'>26</a>\u001b[0m x_deformed \u001b[39m=\u001b[39m np\u001b[39m.\u001b[39mreal(v1)\u001b[39m+\u001b[39mx\n\u001b[1;32m     <a href='vscode-notebook-cell://wsl%2Bubuntu/mnt/d/code/btp/test_notebook.ipynb#X10sdnNjb2RlLXJlbW90ZQ%3D%3D?line=26'>27</a>\u001b[0m y_deformed \u001b[39m=\u001b[39m np\u001b[39m.\u001b[39mreal(u1)\n\u001b[0;32m---> <a href='vscode-notebook-cell://wsl%2Bubuntu/mnt/d/code/btp/test_notebook.ipynb#X10sdnNjb2RlLXJlbW90ZQ%3D%3D?line=27'>28</a>\u001b[0m points_deformed \u001b[39m=\u001b[39m np\u001b[39m.\u001b[39;49mstack([x_deformed, y_deformed])\u001b[39m.\u001b[39mT\u001b[39m.\u001b[39mreshape(\u001b[39mlen\u001b[39m(x), \u001b[39m1\u001b[39m, \u001b[39m2\u001b[39m)\n\u001b[1;32m     <a href='vscode-notebook-cell://wsl%2Bubuntu/mnt/d/code/btp/test_notebook.ipynb#X10sdnNjb2RlLXJlbW90ZQ%3D%3D?line=29'>30</a>\u001b[0m Rotation_matrix \u001b[39m=\u001b[39m np\u001b[39m.\u001b[39marray([[np\u001b[39m.\u001b[39mcos(angle), \u001b[39m-\u001b[39mnp\u001b[39m.\u001b[39msin(angle)], [np\u001b[39m.\u001b[39msin(angle), np\u001b[39m.\u001b[39mcos(angle)]])\n\u001b[1;32m     <a href='vscode-notebook-cell://wsl%2Bubuntu/mnt/d/code/btp/test_notebook.ipynb#X10sdnNjb2RlLXJlbW90ZQ%3D%3D?line=30'>31</a>\u001b[0m rotated \u001b[39m=\u001b[39m np\u001b[39m.\u001b[39mmatmul(points_deformed, np\u001b[39m.\u001b[39mstack([Rotation_matrix] \u001b[39m*\u001b[39m \u001b[39mlen\u001b[39m(x_deformed)))\n",
      "File \u001b[0;32m<__array_function__ internals>:180\u001b[0m, in \u001b[0;36mstack\u001b[0;34m(*args, **kwargs)\u001b[0m\n",
      "File \u001b[0;32m/mnt/d/code/btp/.venv/lib/python3.8/site-packages/numpy/core/shape_base.py:426\u001b[0m, in \u001b[0;36mstack\u001b[0;34m(arrays, axis, out)\u001b[0m\n\u001b[1;32m    424\u001b[0m shapes \u001b[39m=\u001b[39m {arr\u001b[39m.\u001b[39mshape \u001b[39mfor\u001b[39;00m arr \u001b[39min\u001b[39;00m arrays}\n\u001b[1;32m    425\u001b[0m \u001b[39mif\u001b[39;00m \u001b[39mlen\u001b[39m(shapes) \u001b[39m!=\u001b[39m \u001b[39m1\u001b[39m:\n\u001b[0;32m--> 426\u001b[0m     \u001b[39mraise\u001b[39;00m \u001b[39mValueError\u001b[39;00m(\u001b[39m'\u001b[39m\u001b[39mall input arrays must have the same shape\u001b[39m\u001b[39m'\u001b[39m)\n\u001b[1;32m    428\u001b[0m result_ndim \u001b[39m=\u001b[39m arrays[\u001b[39m0\u001b[39m]\u001b[39m.\u001b[39mndim \u001b[39m+\u001b[39m \u001b[39m1\u001b[39m\n\u001b[1;32m    429\u001b[0m axis \u001b[39m=\u001b[39m normalize_axis_index(axis, result_ndim)\n",
      "\u001b[0;31mValueError\u001b[0m: all input arrays must have the same shape"
     ]
    }
   ],
   "source": [
    "from src.modules.bc import fixed_end, free_end\n",
    "from matplotlib import pyplot as plt\n",
    "\n",
    "step_size = 0.1\n",
    "freq = 13.742\n",
    "constraint_curr = test_frame.constraints[0]\n",
    "member_curr = constraint_curr.members[0]\n",
    "offset = np.array([0, 0])\n",
    "angle = 0\n",
    "Handle = True\n",
    "mode_shape = [np.array([[0], [0]]).reshape(1, 1, 2)]\n",
    "members_completed = set()\n",
    "constraints_completed = set()\n",
    "\n",
    "while Handle:\n",
    "    members_completed.add(member_curr.id)\n",
    "    constraints_completed.add(constraint_curr.id)\n",
    "\n",
    "    x = np.append(\n",
    "        np.arange(step_size, member_curr.length, step_size), member_curr.length\n",
    "    )\n",
    "    v1, u1 = member_curr.get_deformation(\n",
    "        w=2 * np.pi * freq, lengths=x, id=constraint_curr.id, subs_dict=subs_dict\n",
    "    )\n",
    "    print(v1[1])\n",
    "    print(u1[1])\n",
    "    print(x[1])\n",
    "    break  # Works till here\n",
    "    x_deformed = np.real(v1) + x\n",
    "    y_deformed = np.real(u1)\n",
    "    points_deformed = np.stack([x_deformed, y_deformed]).T.reshape(len(x), 1, 2)\n",
    "\n",
    "    Rotation_matrix = np.array(\n",
    "        [[np.cos(angle), -np.sin(angle)], [np.sin(angle), np.cos(angle)]]\n",
    "    )\n",
    "    rotated = np.matmul(points_deformed, np.stack([Rotation_matrix] * len(x_deformed)))\n",
    "    rotated_translated = rotated + offset\n",
    "    mode_shape.append(rotated_translated)\n",
    "\n",
    "    constraint_ids = member_curr.constraint_ids\n",
    "    if constraint_ids[0] not in constraints_completed:\n",
    "        constraint_curr = test_frame.constraints[constraint_ids[0]]\n",
    "    else:\n",
    "        constraint_curr = test_frame.constraints[constraint_ids[1]]\n",
    "\n",
    "    members = constraint_curr.members  # Will have to change for a 3 member joint\n",
    "\n",
    "    if members[0].id not in members_completed:\n",
    "        member_curr = members[0]\n",
    "    elif len(members) > 1 and members[1] not in members_completed:\n",
    "        member_curr = members[1]\n",
    "    else:\n",
    "        Handle = False\n",
    "\n",
    "    angle = -constraint_curr.theta\n",
    "    offset = rotated_translated[-1]\n",
    "mode_shape = np.concatenate(mode_shape)\n",
    "x = mode_shape[:, :, 0]\n",
    "y = mode_shape[:, :, 1]\n",
    "plt.plot(x, y)"
   ]
  },
  {
   "cell_type": "code",
   "execution_count": 9,
   "metadata": {},
   "outputs": [
    {
     "name": "stdout",
     "output_type": "stream",
     "text": [
      "Essential till mode shape verified\n",
      "0\n",
      "0.0703000196537892 + 0.0702994603253966*I\n",
      "1.46224217442703e-7 - 1.53756644222236e-7*I\n",
      "-1.62123414411793e-9 + 4.06859813851732e-11*I\n",
      "---------------------------------\n",
      "0.1\n",
      "0.0536331880427632 + 0.0912715787099289*I\n",
      "0.0092809067179299 - 1.382418495783e-7*I\n",
      "-2.55496406242653e-6 + 1.2217477134e-11*I\n",
      "---------------------------------\n",
      "0.2\n",
      "0.0475829222318819 + 0.108076804228468*I\n",
      "0.0352872004762986 - 1.796132334108e-7*I\n",
      "-5.10829967844353e-6 - 1.62510616044e-11*I\n",
      "---------------------------------\n",
      "0.3\n",
      "0.0499076378851822 + 0.119947934893222*I\n",
      "0.0752889055389118 - 2.6801683448333e-7*I\n",
      "-7.66162087452652e-6 - 4.47195544689e-11*I\n",
      "---------------------------------\n",
      "0.4\n",
      "0.0584686155921051 + 0.126343023940374*I\n",
      "0.12663490880286 - 3.939923771758e-7*I\n",
      "-1.02149204430477e-5 - 7.31879210972e-11*I\n",
      "---------------------------------\n",
      "0.5\n",
      "0.0712341345985477 + 0.126970121815278*I\n",
      "0.186836189409652 - 5.4865562483936e-7*I\n",
      "-1.27681911764401e-5 - 1.01656081127e-10*I\n",
      "---------------------------------\n"
     ]
    }
   ],
   "source": [
    "print(\"Essential till mode shape verified\")\n",
    "constraint_curr = test_frame.constraints[0]\n",
    "member_curr = constraint_curr.members[0]\n",
    "from sympy import Matrix, E, I\n",
    "\n",
    "points = [0, 0.1, 0.2, 0.3, 0.4, 0.5]\n",
    "\n",
    "\n",
    "def get_propagation_matrix(obj, w: float, length: float):\n",
    "    C = (obj.youngs_modulus / obj.density) ** 0.5\n",
    "    K = (obj.inertia / obj.cross_section_area) ** 0.5\n",
    "\n",
    "    alpha = (w * K / C) ** 0.5\n",
    "    beta = w * K / C\n",
    "    L_bar = length / K\n",
    "\n",
    "    propagation_matrix = Matrix(\n",
    "        [\n",
    "            [E ** (-I * alpha * L_bar), 0, 0],\n",
    "            [0, E ** (-alpha * L_bar), 0],\n",
    "            [0, 0, E ** (-I * beta * L_bar)],\n",
    "        ]\n",
    "    )\n",
    "    return propagation_matrix\n",
    "\n",
    "\n",
    "for i in points:\n",
    "    w = 2 * np.pi * 13.742\n",
    "    propagation_matrix_subs = get_propagation_matrix(member_curr, w=w, length=i)\n",
    "    propagation_matrix_inv_subs = propagation_matrix_subs.inv()\n",
    "    a_plus_subs = member_curr.a_plus.subs(subs_dict)\n",
    "    a_minus_subs = member_curr.a_minus.subs(subs_dict)\n",
    "\n",
    "    v = (\n",
    "        Matrix([1, 1, 0]).T * propagation_matrix_subs * a_plus_subs\n",
    "        + Matrix([1, 1, 0]).T * propagation_matrix_inv_subs * a_minus_subs\n",
    "    ).evalf()\n",
    "    u = (\n",
    "        Matrix([0, 0, 1]).T * propagation_matrix_subs * a_plus_subs\n",
    "        + Matrix([0, 0, 1]).T * propagation_matrix_inv_subs * a_minus_subs\n",
    "    ).evalf()\n",
    "    print(i)\n",
    "    print((Matrix([1, 1, 0]).T * propagation_matrix_subs * a_plus_subs).evalf()[0])\n",
    "    print(v[0])\n",
    "    print(u[0])\n",
    "    print(\"---------------------------------\")"
   ]
  },
  {
   "cell_type": "code",
   "execution_count": 10,
   "metadata": {},
   "outputs": [
    {
     "data": {
      "text/plain": [
       "matrix([[0.05363319+0.09127158j]])"
      ]
     },
     "execution_count": 10,
     "metadata": {},
     "output_type": "execute_result"
    }
   ],
   "source": [
    "propagation_matrix_subs = member_curr.get_propagation_matrix(\n",
    "    w=2 * np.pi * 13.742, lengths=[0.1]\n",
    ")\n",
    "propagation_matrix_inv_subs = np.linalg.inv(propagation_matrix_subs)\n",
    "a_plus_subs = np.matrix(member_curr.a_plus.subs(subs_dict), dtype=complex)\n",
    "a_minus_subs = np.matrix(member_curr.a_minus.subs(subs_dict), dtype=complex)\n",
    "v = (\n",
    "    np.matmul(np.array([1, 1, 0]), propagation_matrix_subs) * a_plus_subs\n",
    "    + np.matmul(np.array([1, 1, 0]), propagation_matrix_inv_subs) * a_minus_subs\n",
    ")\n",
    "u = (\n",
    "    np.matmul(np.array([0, 0, 1]), propagation_matrix_subs) * a_plus_subs\n",
    "    + np.matmul(np.array([0, 0, 1]), propagation_matrix_inv_subs) * a_minus_subs\n",
    ")\n",
    "np.matmul(np.array([1, 1, 0]), propagation_matrix_subs) * a_plus_subs"
   ]
  },
  {
   "cell_type": "code",
   "execution_count": 11,
   "metadata": {},
   "outputs": [
    {
     "data": {
      "text/plain": [
       "matrix([[-2.55496406e-06+1.22174772e-11j]])"
      ]
     },
     "execution_count": 11,
     "metadata": {},
     "output_type": "execute_result"
    }
   ],
   "source": [
    "u"
   ]
  },
  {
   "cell_type": "code",
   "execution_count": 12,
   "metadata": {},
   "outputs": [
    {
     "data": {
      "text/plain": [
       "matrix([[0.00928091-1.3824185e-07j]])"
      ]
     },
     "execution_count": 12,
     "metadata": {},
     "output_type": "execute_result"
    }
   ],
   "source": [
    "v"
   ]
  }
 ],
 "metadata": {
  "kernelspec": {
   "display_name": "Python 3.8.10 ('.venv': venv)",
   "language": "python",
   "name": "python3"
  },
  "language_info": {
   "codemirror_mode": {
    "name": "ipython",
    "version": 3
   },
   "file_extension": ".py",
   "mimetype": "text/x-python",
   "name": "python",
   "nbconvert_exporter": "python",
   "pygments_lexer": "ipython3",
   "version": "3.8.10 (default, Jun 22 2022, 20:18:18) \n[GCC 9.4.0]"
  },
  "orig_nbformat": 4,
  "vscode": {
   "interpreter": {
    "hash": "17bc60668a0ef3723cc4fe6fee6166c192eacec5ba2ca034f1deb5e37151e83a"
   }
  }
 },
 "nbformat": 4,
 "nbformat_minor": 2
}
