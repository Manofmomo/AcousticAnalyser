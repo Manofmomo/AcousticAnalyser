{
 "cells": [
  {
   "cell_type": "code",
   "execution_count": 1,
   "metadata": {},
   "outputs": [],
   "source": [
    "from src.acoustic_analyser import frame\n",
    "import numpy as np\n",
    "\n",
    "test_frame = frame.from_file(\n",
    "    member_file=\"test_member.json\", constraint_file=\"test_constraint.csv\", debug=False\n",
    ")\n",
    "\n",
    "free_end = test_frame.fixed_end(member_id=0)\n",
    "free_end = test_frame.free_end(member_id=1)"
   ]
  },
  {
   "cell_type": "code",
   "execution_count": 2,
   "metadata": {},
   "outputs": [
    {
     "name": "stdout",
     "output_type": "stream",
     "text": [
      "(-0.22419369236865638-0.008377076802613428j)\n"
     ]
    },
    {
     "data": {
      "text/plain": [
       "(-0.22419369236865638-0.008377076802613428j)"
      ]
     },
     "execution_count": 2,
     "metadata": {},
     "output_type": "execute_result"
    }
   ],
   "source": [
    "test_frame.get_determinant(w=10)"
   ]
  },
  {
   "cell_type": "code",
   "execution_count": null,
   "metadata": {},
   "outputs": [],
   "source": [
    "# _ = test_frame.get_frequency_graph(lower_limit=1, upper_limit=100, step_size=2)"
   ]
  },
  {
   "cell_type": "code",
   "execution_count": 3,
   "metadata": {},
   "outputs": [],
   "source": [
    "natural_freq = (\n",
    "    lambda x: np.abs(test_frame.get_determinant(w=np.abs(x) * 2 * np.pi)) ** 2\n",
    ")"
   ]
  },
  {
   "cell_type": "code",
   "execution_count": 4,
   "metadata": {},
   "outputs": [
    {
     "name": "stdout",
     "output_type": "stream",
     "text": [
      "(-0.20643703964498247-0.04028903132113413j)\n"
     ]
    },
    {
     "data": {
      "text/plain": [
       "0.04423945738217938"
      ]
     },
     "execution_count": 4,
     "metadata": {},
     "output_type": "execute_result"
    }
   ],
   "source": [
    "natural_freq(-1)"
   ]
  },
  {
   "cell_type": "code",
   "execution_count": null,
   "metadata": {},
   "outputs": [],
   "source": []
  },
  {
   "cell_type": "code",
   "execution_count": null,
   "metadata": {},
   "outputs": [],
   "source": [
    "test_frame.get_natural_frequency(lower_limit=10, upper_limit=12)"
   ]
  },
  {
   "cell_type": "code",
   "execution_count": null,
   "metadata": {},
   "outputs": [],
   "source": [
    "# test_frame.get_natural_frequency(lower_limit=50, upper_limit=55)"
   ]
  },
  {
   "cell_type": "code",
   "execution_count": null,
   "metadata": {},
   "outputs": [],
   "source": [
    "_ = test_frame.get_params_solution(natural_freq=11.16)"
   ]
  },
  {
   "cell_type": "code",
   "execution_count": null,
   "metadata": {},
   "outputs": [],
   "source": [
    "from src.modules.bc import fixed_end\n",
    "\n",
    "step_size = 0.2\n",
    "constraint: fixed_end = test_frame.constraints[1]\n",
    "member_curr = constraint.member\n",
    "points = np.append(\n",
    "    np.arange(step_size, member_curr.length, step_size), member_curr.length\n",
    ")"
   ]
  }
 ],
 "metadata": {
  "kernelspec": {
   "display_name": "Python 3.8.10 ('.venv': venv)",
   "language": "python",
   "name": "python3"
  },
  "language_info": {
   "codemirror_mode": {
    "name": "ipython",
    "version": 3
   },
   "file_extension": ".py",
   "mimetype": "text/x-python",
   "name": "python",
   "nbconvert_exporter": "python",
   "pygments_lexer": "ipython3",
   "version": "3.8.10"
  },
  "orig_nbformat": 4,
  "vscode": {
   "interpreter": {
    "hash": "17bc60668a0ef3723cc4fe6fee6166c192eacec5ba2ca034f1deb5e37151e83a"
   }
  }
 },
 "nbformat": 4,
 "nbformat_minor": 2
}
