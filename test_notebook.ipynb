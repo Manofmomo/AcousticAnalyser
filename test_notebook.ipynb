{
 "cells": [
  {
   "cell_type": "code",
   "execution_count": 2,
   "metadata": {},
   "outputs": [
    {
     "data": {
      "text/plain": [
       "[-A-1 - I*C-1*exp(-2.0*I*sqrt(w)*x) + D-1*(-exp(-sqrt(w)*x)*exp(-I*sqrt(w)*x) + I*exp(-sqrt(w)*x)*exp(-I*sqrt(w)*x)),\n",
       " -B-1 + C-1*(-exp(-sqrt(w)*x)*exp(-I*sqrt(w)*x) - I*exp(-sqrt(w)*x)*exp(-I*sqrt(w)*x)) + I*D-1*exp(-2.0*sqrt(w)*x),\n",
       " -C-1,\n",
       " -D-1,\n",
       " A-1 - A0,\n",
       " B-1 - B0,\n",
       " -C0,\n",
       " -D0,\n",
       " A0 - A1,\n",
       " B0 - B1,\n",
       " -I*A1*exp(-2.0*I*sqrt(w)*x) + B1*(exp(-sqrt(w)*x)*exp(-I*sqrt(w)*x) - I*exp(-sqrt(w)*x)*exp(-I*sqrt(w)*x)) - C1,\n",
       " A1*(exp(-sqrt(w)*x)*exp(-I*sqrt(w)*x) + I*exp(-sqrt(w)*x)*exp(-I*sqrt(w)*x)) + I*B1*exp(-2.0*sqrt(w)*x) - D1]"
      ]
     },
     "execution_count": 2,
     "metadata": {},
     "output_type": "execute_result"
    }
   ],
   "source": [
    "from src.acoustic_analyser import structure\n",
    "\n",
    "test_structure = structure()\n",
    "\n",
    "m1, _ = test_structure.add_member(length=0.5, rho=1, cross_section_area=1, youngs_modulus=1, inertia=1)\n",
    "m2, _ = test_structure.add_member(length=0.5, rho=1, cross_section_area=1, youngs_modulus=1, inertia=1)\n",
    "m3, _ = test_structure.add_member(length=1, rho=1, cross_section_area=1, youngs_modulus=1, inertia=1)\n",
    "\n",
    "j, _ = test_structure.fixed_end(member=m1)\n",
    "j1,_ =test_structure.two_member_joint(member_1=m1, member_2=m2, theta=0)\n",
    "j2,_ =test_structure.two_member_joint(member_1=m2, member_2=m3, theta=0)\n",
    "\n",
    "j3, _ = test_structure.free_end(member=m3)\n",
    "\n",
    "lhs=test_structure.get_equation_matrix()\n",
    "lhs"
   ]
  },
  {
   "cell_type": "code",
   "execution_count": 7,
   "metadata": {},
   "outputs": [
    {
     "data": {
      "text/latex": [
       "$\\displaystyle \\left[\\begin{matrix}- i e^{- 2.0 i \\sqrt{w} x} & - e^{- \\sqrt{w} x} e^{- i \\sqrt{w} x} + i e^{- \\sqrt{w} x} e^{- i \\sqrt{w} x}\\\\- e^{- \\sqrt{w} x} e^{- i \\sqrt{w} x} - i e^{- \\sqrt{w} x} e^{- i \\sqrt{w} x} & i e^{- 2.0 \\sqrt{w} x}\\end{matrix}\\right]$"
      ],
      "text/plain": [
       "Matrix([\n",
       "[                                                -I*exp(-2.0*I*sqrt(w)*x), -exp(-sqrt(w)*x)*exp(-I*sqrt(w)*x) + I*exp(-sqrt(w)*x)*exp(-I*sqrt(w)*x)],\n",
       "[-exp(-sqrt(w)*x)*exp(-I*sqrt(w)*x) - I*exp(-sqrt(w)*x)*exp(-I*sqrt(w)*x),                                                    I*exp(-2.0*sqrt(w)*x)]])"
      ]
     },
     "execution_count": 7,
     "metadata": {},
     "output_type": "execute_result"
    }
   ],
   "source": [
    "j.reflection_matrix"
   ]
  }
 ],
 "metadata": {
  "kernelspec": {
   "display_name": "Python 3.8.10 ('.venv': venv)",
   "language": "python",
   "name": "python3"
  },
  "language_info": {
   "codemirror_mode": {
    "name": "ipython",
    "version": 3
   },
   "file_extension": ".py",
   "mimetype": "text/x-python",
   "name": "python",
   "nbconvert_exporter": "python",
   "pygments_lexer": "ipython3",
   "version": "3.8.10"
  },
  "orig_nbformat": 4,
  "vscode": {
   "interpreter": {
    "hash": "17bc60668a0ef3723cc4fe6fee6166c192eacec5ba2ca034f1deb5e37151e83a"
   }
  }
 },
 "nbformat": 4,
 "nbformat_minor": 2
}
