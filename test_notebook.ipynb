{
 "cells": [
  {
   "cell_type": "code",
   "execution_count": 1,
   "metadata": {},
   "outputs": [
    {
     "name": "stderr",
     "output_type": "stream",
     "text": [
      "2022-12-02 16:30:30,218 src.modules.member DEBUG:Propagation Matrix Calculated for member 0\n",
      "2022-12-02 16:30:30,222 src.modules.member DEBUG:Parameters set for member 0\n",
      "2022-12-02 16:30:30,224 src.acoustic_analyser DEBUG:Member added with id 0\n",
      "2022-12-02 16:30:30,224 src.modules.member DEBUG:Propagation Matrix Calculated for member 1\n",
      "2022-12-02 16:30:30,227 src.modules.member DEBUG:Parameters set for member 1\n",
      "2022-12-02 16:30:30,230 src.acoustic_analyser DEBUG:Member added with id 1\n",
      "2022-12-02 16:30:30,231 src.acoustic_analyser DEBUG:Created all Members\n",
      "2022-12-02 16:30:30,259 src.modules.rt_joint DEBUG:Equation File Loaded\n",
      "2022-12-02 16:30:30,522 src.modules.rt_joint DEBUG:M0-M6 N0-N6 Substituted\n",
      "2022-12-02 16:30:30,523 src.modules.rt_joint DEBUG:Matrix([[0, 0, 0.0327983771959527 - 105.614961932059*I], [0.0327983771959527 - I, 1.03279837719595, 0], [1 + 0.0265629988360518*I, -1 - 0.0265629988360518*I, 0]])\n",
      "2022-12-02 16:30:31,763 src.modules.rt_joint DEBUG:Reflection Transmission Calculated\n",
      "2022-12-02 16:30:31,765 src.acoustic_analyser DEBUG:Two member joint added b/w 0 and 1 with id 0\n",
      "2022-12-02 16:30:31,766 src.acoustic_analyser DEBUG:Added all Constraints\n",
      "2022-12-02 16:30:31,773 src.modules.bc DEBUG:Reflection Matrix for free_end 1 calculated\n",
      "2022-12-02 16:30:31,774 src.acoustic_analyser DEBUG:Fixed End added to member 0 with id 1\n",
      "2022-12-02 16:30:31,779 src.modules.bc DEBUG:Reflection Matrix for free_end 2 calculated\n",
      "2022-12-02 16:30:31,780 src.acoustic_analyser DEBUG:Free End added to member 1 with id 2\n",
      "2022-12-02 16:30:32,217 src.modules.joint DEBUG:Equations for joint 0 calculated\n",
      "2022-12-02 16:30:32,221 src.modules.bc DEBUG:Equations for fixed_end 1 calculated\n",
      "2022-12-02 16:30:32,223 src.modules.bc DEBUG:Equations for free_end 2 calculated\n",
      "2022-12-02 16:30:32,223 src.acoustic_analyser DEBUG:All Equations Fetched\n",
      "2022-12-02 16:30:32,451 src.acoustic_analyser DEBUG:Equation Coefficent Matrix generated\n"
     ]
    }
   ],
   "source": [
    "\n",
    "from src.acoustic_analyser import frame\n",
    "\n",
    "\n",
    "test_frame = frame.from_file(member_file=\"test_member.json\", constraint_file=\"test_constraint.csv\")\n",
    "\n",
    "free_end = test_frame.fixed_end(member_id=0)\n",
    "free_end = test_frame.free_end(member_id=1)\n",
    "\n",
    "matrix = test_frame.get_equation_matrix()"
   ]
  },
  {
   "cell_type": "code",
   "execution_count": 9,
   "metadata": {},
   "outputs": [
    {
     "data": {
      "text/latex": [
       "$\\displaystyle \\left[\\begin{matrix}-0.94787828245719 + 0.051553630760213 i & 0.00210561673998133 - 0.00231865030757767 i & 1.57774798731228 - 0.0986636906282854 i\\\\-0.0235076859548476 - 0.0210439251527981 i & -0.970367799436536 + 0.0294189317812133 i & -0.612528579357303 + 0.0590905335027602 i\\\\0.00835954174341067 - 0.0214666186712891 i & -0.0207553923220712 + 0.00923421006792708 i & 0.963629076330808 - 0.00283095447131582 i\\end{matrix}\\right]$"
      ],
      "text/plain": [
       "Matrix([\n",
       "[   -0.94787828245719 + 0.051553630760213*I, 0.00210561673998133 - 0.00231865030757767*I,   1.57774798731228 - 0.0986636906282854*I],\n",
       "[-0.0235076859548476 - 0.0210439251527981*I,   -0.970367799436536 + 0.0294189317812133*I, -0.612528579357303 + 0.0590905335027602*I],\n",
       "[0.00835954174341067 - 0.0214666186712891*I, -0.0207553923220712 + 0.00923421006792708*I, 0.963629076330808 - 0.00283095447131582*I]])"
      ]
     },
     "execution_count": 9,
     "metadata": {},
     "output_type": "execute_result"
    }
   ],
   "source": [
    "test_frame.constraints[0].reflection_matrix_11.expand()"
   ]
  },
  {
   "cell_type": "code",
   "execution_count": null,
   "metadata": {},
   "outputs": [],
   "source": [
    "matrix.shape"
   ]
  },
  {
   "cell_type": "code",
   "execution_count": null,
   "metadata": {},
   "outputs": [],
   "source": [
    "matrix[0,0]"
   ]
  }
 ],
 "metadata": {
  "kernelspec": {
   "display_name": "Python 3.8.10 ('.venv': venv)",
   "language": "python",
   "name": "python3"
  },
  "language_info": {
   "codemirror_mode": {
    "name": "ipython",
    "version": 3
   },
   "file_extension": ".py",
   "mimetype": "text/x-python",
   "name": "python",
   "nbconvert_exporter": "python",
   "pygments_lexer": "ipython3",
   "version": "3.8.10 (default, Jun 22 2022, 20:18:18) \n[GCC 9.4.0]"
  },
  "orig_nbformat": 4,
  "vscode": {
   "interpreter": {
    "hash": "17bc60668a0ef3723cc4fe6fee6166c192eacec5ba2ca034f1deb5e37151e83a"
   }
  }
 },
 "nbformat": 4,
 "nbformat_minor": 2
}
