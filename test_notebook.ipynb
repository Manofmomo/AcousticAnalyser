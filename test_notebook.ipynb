{
 "cells": [
  {
   "cell_type": "code",
   "execution_count": 4,
   "metadata": {},
   "outputs": [],
   "source": [
    "from sympy import symbols \n",
    "w=symbols(\"w\")"
   ]
  },
  {
   "cell_type": "code",
   "execution_count": null,
   "metadata": {},
   "outputs": [],
   "source": [
    "\n",
    "# from src.acoustic_analyser import frame\n",
    "# import numpy as np\n",
    "\n",
    "# test_frame = frame.from_file(member_file=\"test_member.json\", constraint_file=\"test_constraint.csv\")\n",
    "\n",
    "# free_end = test_frame.fixed_end(member_id=0)\n",
    "# free_end = test_frame.free_end(member_id=1)\n",
    "\n",
    "# matrix = test_frame.get_equation_matrix(w=3)\n"
   ]
  },
  {
   "cell_type": "code",
   "execution_count": 1,
   "metadata": {},
   "outputs": [
    {
     "name": "stderr",
     "output_type": "stream",
     "text": [
      "2022-12-22 19:18:47,367 src.modules.rt_joint DEBUG:Equation File Loaded\n",
      "2022-12-22 19:18:49,454 src.modules.member DEBUG:Propagation Matrix Calculated for member 0\n",
      "2022-12-22 19:18:49,456 src.modules.member DEBUG:Parameters set for member 0\n",
      "2022-12-22 19:18:49,458 src.acoustic_analyser DEBUG:Member added with id 0\n",
      "2022-12-22 19:18:49,460 src.modules.member DEBUG:Propagation Matrix Calculated for member 1\n",
      "2022-12-22 19:18:49,463 src.modules.member DEBUG:Parameters set for member 1\n",
      "2022-12-22 19:18:49,466 src.acoustic_analyser DEBUG:Member added with id 1\n",
      "2022-12-22 19:18:49,468 src.modules.bc DEBUG:Reflection Matrix for free_end 0 calculated\n",
      "2022-12-22 19:18:49,469 src.acoustic_analyser DEBUG:Fixed End added to member 0 with id 0\n",
      "2022-12-22 19:18:49,473 src.acoustic_analyser DEBUG:Two member joint added b/w 0 and 1 with id 1\n",
      "2022-12-22 19:18:49,475 src.modules.bc DEBUG:Reflection Matrix for free_end 2 calculated\n",
      "2022-12-22 19:18:49,476 src.acoustic_analyser DEBUG:Free End added to member 1 with id 2\n",
      "2022-12-22 19:18:49,490 src.modules.bc DEBUG:Equations for fixed_end 0 calculated\n",
      "2022-12-22 19:18:51,191 src.modules.rt_joint DEBUG:M0-M6 N0-N6 Substituted\n",
      "2022-12-22 19:18:51,193 src.modules.rt_joint DEBUG:M1 :\n",
      "2022-12-22 19:18:51,195 src.modules.rt_joint DEBUG:Matrix([[0, 0, 0.0050677437292793 - 683.558956449125*I], [0.0050677437292793 - 1.0*I, 1.00506774372928, 0], [1.0 + 0.00104956409164935*I, -1.00104956409165, 0]])\n",
      "2022-12-22 19:18:51,652 src.modules.rt_joint DEBUG:transmission_matrix_12 Calculated\n",
      "2022-12-22 19:18:51,968 src.modules.rt_joint DEBUG:reflection_matrix_11 Calculated\n",
      "2022-12-22 19:18:52,511 src.modules.rt_joint DEBUG:transmission_matrix_21 Calculated\n",
      "2022-12-22 19:18:52,900 src.modules.rt_joint DEBUG:reflection_matrix_22 Calculated\n",
      "2022-12-22 19:18:53,165 src.modules.rt_joint DEBUG:Reflection Transmission Calculated\n",
      "2022-12-22 19:18:53,182 src.modules.joint DEBUG:Equations for joint 1 calculated\n",
      "2022-12-22 19:18:53,186 src.modules.bc DEBUG:Equations for free_end 2 calculated\n",
      "2022-12-22 19:18:53,206 src.modules.member DEBUG:Propagation and Backword propagation for id:0 calculated\n",
      "2022-12-22 19:18:53,208 src.modules.member DEBUG:a_b^+0*exp(-0.199517469656665*I) - b_b^+0\n",
      "2022-12-22 19:18:53,219 src.modules.member DEBUG:Propagation and Backword propagation for id:1 calculated\n",
      "2022-12-22 19:18:53,220 src.modules.member DEBUG:a_b^+1*exp(-0.199517469656665*I) - b_b^+1\n",
      "2022-12-22 19:18:53,223 src.acoustic_analyser DEBUG:All Equations Fetched\n",
      "2022-12-22 19:18:53,227 src.acoustic_analyser DEBUG:-a_b^+0 - I*a_b^-0 - a_e^-0 - I*a_e^-0\n",
      "2022-12-22 19:18:53,231 src.acoustic_analyser DEBUG:-a_b^-0 + I*a_b^-0 - a_e^+0 + I*a_e^-0\n",
      "2022-12-22 19:18:53,235 src.acoustic_analyser DEBUG:-a_l^+0 - a_l^-0\n",
      "2022-12-22 19:18:53,254 src.acoustic_analyser DEBUG:0.499945100559093*a_b^-1 - 0.492595394396257*I*a_b^-1 - 0.499928467579474*a_e^-1 - 0.491671457917856*I*a_e^-1 + 1.41404428534011*a_l^-1 + 1.18642254834126*I*a_l^-1 - 0.499801729269942*b_b^+0 - 0.490496817011128*I*b_b^+0 - b_b^-0 - 0.499928161131709*b_e^+0 - 0.491420753489543*I*b_e^+0 - 0.99988322207517*b_l^+0 - 1.18691089947545*I*b_l^+0\n",
      "2022-12-22 19:18:53,277 src.acoustic_analyser DEBUG:-0.491671457917434*a_b^-1 + 0.499928467578242*I*a_b^-1 + 0.507405419824222*a_e^-1 + 0.499803093405759*I*a_e^-1 + 1.39353039792027*a_l^-1 - 1.20699055433574*I*a_l^-1 - 0.491420753489543*b_b^+0 + 0.499928161131709*I*b_b^+0 - 0.490497631230878*b_e^+0 + 0.500053535304188*I*b_e^+0 - b_e^-0 - 0.979803050448766*b_l^+0 + 1.20693695307963*I*b_l^+0\n",
      "2022-12-22 19:18:53,304 src.acoustic_analyser DEBUG:-0.00413730014734737*a_b^-1 - 0.00347131008208399*I*a_b^-1 - 0.00353148925407077*a_e^-1 - 0.00407727931727484*I*a_e^-1 + 0.00840029215902264*a_l^-1 + 0.00827775827628397*I*a_l^-1 - 0.00292552153005065*b_b^+0 - 0.00347273892991249*I*b_b^+0 - 0.00353133242332033*b_e^+0 - 0.00286676969471248*I*b_e^+0 + 0.991348706664423*b_l^+0 - 0.00853685176357122*I*b_l^+0 - b_l^-0\n",
      "2022-12-22 19:18:53,331 src.acoustic_analyser DEBUG:-a_b^+1 - 0.499801729269942*a_b^-1 - 0.490496817011127*I*a_b^-1 - 0.499928161131708*a_e^-1 - 0.491420753489542*I*a_e^-1 + 0.999883222075453*a_l^-1 + 1.18691089947561*I*a_l^-1 + 0.499945100559658*b_b^+0 - 0.492595394396464*I*b_b^+0 - 0.499928467578577*b_e^+0 - 0.491671457918049*I*b_e^+0 - 1.41404428560136*b_l^+0 - 1.18642254862851*I*b_l^+0\n",
      "2022-12-22 19:18:53,354 src.acoustic_analyser DEBUG:-0.491420753489542*a_b^-1 + 0.499928161131708*I*a_b^-1 - a_e^+1 - 0.490497631230878*a_e^-1 + 0.500053535304187*I*a_e^-1 + 0.979803050448864*a_l^-1 - 1.20693695307984*I*a_l^-1 - 0.491671457918101*b_b^+0 + 0.499928467578557*I*b_b^+0 + 0.507405419823235*b_e^+0 + 0.499803093406079*I*b_e^+0 - 1.39353039765542*b_l^+0 + 1.20699055459679*I*b_l^+0\n",
      "2022-12-22 19:18:53,373 src.acoustic_analyser DEBUG:0.00292552153005065*a_b^-1 + 0.00347273892991249*I*a_b^-1 + 0.00353133242332032*a_e^-1 + 0.00286676969471248*I*a_e^-1 - a_l^+1 + 0.991348706664422*a_l^-1 - 0.00853685176357192*I*a_l^-1 + 0.00413730014729625*b_b^+0 + 0.00347131008213748*I*b_b^+0 + 0.00353148925402658*b_e^+0 + 0.00407727931733749*I*b_e^+0 + 0.00840029216073441*b_l^+0 + 0.0082777582631664*I*b_l^+0\n",
      "2022-12-22 19:18:53,384 src.acoustic_analyser DEBUG:-I*b_b^+1 - b_b^-1 + b_e^+1 + I*b_e^+1\n",
      "2022-12-22 19:18:53,388 src.acoustic_analyser DEBUG:b_b^+1 - I*b_b^+1 + I*b_e^+1 - b_e^-1\n",
      "2022-12-22 19:18:53,392 src.acoustic_analyser DEBUG:b_l^+1 - b_l^-1\n",
      "2022-12-22 19:18:53,395 src.acoustic_analyser DEBUG:a_b^+0*exp(-0.199517469656665*I) - b_b^+0\n",
      "2022-12-22 19:18:53,399 src.acoustic_analyser DEBUG:0.819125910839501*a_e^+0 - b_e^+0\n",
      "2022-12-22 19:18:53,406 src.acoustic_analyser DEBUG:a_l^+0*exp(-0.000291880411739605*I) - b_l^+0\n",
      "2022-12-22 19:18:53,414 src.acoustic_analyser DEBUG:-a_b^-0 + b_b^-0*exp(0.199517469656665*I)\n",
      "2022-12-22 19:18:53,418 src.acoustic_analyser DEBUG:-a_e^-0 + 1.22081353643804*b_e^-0\n",
      "2022-12-22 19:18:53,425 src.acoustic_analyser DEBUG:-a_l^-0 + b_l^-0*exp(0.000291880411739605*I)\n",
      "2022-12-22 19:18:53,432 src.acoustic_analyser DEBUG:a_b^+1*exp(-0.199517469656665*I) - b_b^+1\n",
      "2022-12-22 19:18:53,436 src.acoustic_analyser DEBUG:0.819125910839501*a_e^+1 - b_e^+1\n",
      "2022-12-22 19:18:53,441 src.acoustic_analyser DEBUG:a_l^+1*exp(-0.000291880411739605*I) - b_l^+1\n",
      "2022-12-22 19:18:53,447 src.acoustic_analyser DEBUG:-a_b^-1 + b_b^-1*exp(0.199517469656665*I)\n",
      "2022-12-22 19:18:53,451 src.acoustic_analyser DEBUG:-a_e^-1 + 1.22081353643804*b_e^-1\n",
      "2022-12-22 19:18:53,456 src.acoustic_analyser DEBUG:-a_l^-1 + b_l^-1*exp(0.000291880411739605*I)\n",
      "2022-12-22 19:18:53,561 src.acoustic_analyser DEBUG:Equation Coefficent Matrix generated\n"
     ]
    }
   ],
   "source": [
    "\n",
    "from src.acoustic_analyser import frame\n",
    "import numpy as np\n",
    "\n",
    "test_frame = frame()\n",
    "\n",
    "test_frame.add_member(length=0.5, density=7800, youngs_modulus=206e9, height=1.27e-2,id=0)\n",
    "test_frame.add_member(length=0.5, density=7800, youngs_modulus=206e9, height=1.27e-2,id=1)\n",
    "\n",
    "free_end = test_frame.fixed_end(member_id=0)\n",
    "joint = test_frame.two_member_joint(member_1_id=0,member_2_id=1, theta=45)\n",
    "free_end = test_frame.free_end(member_id=1)\n",
    "\n",
    "matrix = test_frame.get_equation_matrix(w=3)\n"
   ]
  },
  {
   "cell_type": "code",
   "execution_count": 5,
   "metadata": {},
   "outputs": [
    {
     "data": {
      "text/latex": [
       "$\\displaystyle \\left[\\begin{matrix}0.9802 - 0.1982 i & 0 & 0\\\\0 & 0.8191 & 0\\\\0 & 0 & 1.0 - 0.00029 i\\end{matrix}\\right]$"
      ],
      "text/plain": [
       "Matrix([\n",
       "[0.9802 - 0.1982*I,      0,               0],\n",
       "[                0, 0.8191,               0],\n",
       "[                0,      0, 1.0 - 0.00029*I]])"
      ]
     },
     "execution_count": 5,
     "metadata": {},
     "output_type": "execute_result"
    }
   ],
   "source": [
    "test_frame.members[0].propagation_matrix.subs(w,3).evalf(4)"
   ]
  },
  {
   "cell_type": "code",
   "execution_count": 6,
   "metadata": {},
   "outputs": [
    {
     "data": {
      "text/plain": [
       "0.2624467383843455"
      ]
     },
     "execution_count": 6,
     "metadata": {},
     "output_type": "execute_result"
    }
   ],
   "source": [
    "abs(np.linalg.det(matrix))"
   ]
  },
  {
   "cell_type": "code",
   "execution_count": null,
   "metadata": {},
   "outputs": [],
   "source": [
    "# y = []\n",
    "# x = np.arange(1,400,50)\n",
    "# for freq in x:\n",
    "#     w = 2*np.pi*freq\n",
    "#     matrix = test_frame.get_equation_matrix(w=w)\n",
    "#     y.append(abs(np.linalg.det(matrix)))\n",
    "#     print(freq)\n",
    "\n",
    "# from matplotlib import pyplot as plt\n",
    "# plt.plot(x,y)"
   ]
  }
 ],
 "metadata": {
  "kernelspec": {
   "display_name": "Python 3.8.10 ('.venv': venv)",
   "language": "python",
   "name": "python3"
  },
  "language_info": {
   "codemirror_mode": {
    "name": "ipython",
    "version": 3
   },
   "file_extension": ".py",
   "mimetype": "text/x-python",
   "name": "python",
   "nbconvert_exporter": "python",
   "pygments_lexer": "ipython3",
   "version": "3.8.10"
  },
  "orig_nbformat": 4,
  "vscode": {
   "interpreter": {
    "hash": "17bc60668a0ef3723cc4fe6fee6166c192eacec5ba2ca034f1deb5e37151e83a"
   }
  }
 },
 "nbformat": 4,
 "nbformat_minor": 2
}
